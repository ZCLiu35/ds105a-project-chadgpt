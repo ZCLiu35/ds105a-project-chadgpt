{
 "cells": [
  {
   "cell_type": "markdown",
   "metadata": {},
   "source": [
    "# ✅Step 2: Scraping Reddit Recipes"
   ]
  },
  {
   "cell_type": "markdown",
   "metadata": {},
   "source": [
    "## 0. 🎯Import libraries"
   ]
  },
  {
   "cell_type": "code",
   "execution_count": 5,
   "metadata": {},
   "outputs": [],
   "source": [
    "import sys\n",
    "import json\n",
    "import requests as r\n",
    "from tqdm import tqdm\n",
    "import pandas as pd\n",
    "from time import sleep\n",
    "\n",
    "# Import our own modules\n",
    "sys.path.append(\"../scripts/\")\n",
    "import chadtools"
   ]
  },
  {
   "cell_type": "markdown",
   "metadata": {},
   "source": [
    "## 1. 🎯Load credentials and set up Session"
   ]
  },
  {
   "cell_type": "markdown",
   "metadata": {},
   "source": [
    "Using a function defined in our `chadtools.py` script, we can authenticate with the Reddit API using our own personal `credentials.json` file, and get a `dict` of headers to be used in all subsequent GET requests."
   ]
  },
  {
   "cell_type": "code",
   "execution_count": 6,
   "metadata": {},
   "outputs": [],
   "source": [
    "s = r.Session()\n",
    "headers = chadtools.authenticate_and_get_headers()"
   ]
  },
  {
   "cell_type": "markdown",
   "metadata": {},
   "source": [
    "## 2. 🎯Sending Get Request"
   ]
  },
  {
   "cell_type": "markdown",
   "metadata": {},
   "source": [
    "Replace the normal links in the posts dataframe with the API links for better efficiency."
   ]
  },
  {
   "cell_type": "code",
   "execution_count": 7,
   "metadata": {},
   "outputs": [],
   "source": [
    "df = pd.read_json('../data/posts.json', orient='records')"
   ]
  },
  {
   "cell_type": "code",
   "execution_count": 8,
   "metadata": {},
   "outputs": [
    {
     "data": {
      "text/plain": [
       "0       https://oauth.reddit.com/r/recipes/comments/1a...\n",
       "1       https://oauth.reddit.com/r/recipes/comments/1a...\n",
       "2       https://oauth.reddit.com/r/recipes/comments/1a...\n",
       "3       https://oauth.reddit.com/r/recipes/comments/1a...\n",
       "4       https://oauth.reddit.com/r/recipes/comments/1a...\n",
       "                              ...                        \n",
       "2061    https://oauth.reddit.com/r/recipes/comments/cz...\n",
       "2062    https://oauth.reddit.com/r/recipes/comments/cy...\n",
       "2063    https://oauth.reddit.com/r/recipes/comments/cw...\n",
       "2064    https://oauth.reddit.com/r/recipes/comments/cw...\n",
       "2065    https://oauth.reddit.com/r/recipes/comments/cs...\n",
       "Name: comment_link, Length: 2066, dtype: object"
      ]
     },
     "execution_count": 8,
     "metadata": {},
     "output_type": "execute_result"
    }
   ],
   "source": [
    "df[\"comment_link\"] = df[\"permalink\"].replace(to_replace=\"https://\", value=\"https://oauth.\", regex=True)\n",
    "df[\"comment_link\"]"
   ]
  },
  {
   "cell_type": "markdown",
   "metadata": {},
   "source": [
    "We can now get the comments from each post."
   ]
  },
  {
   "cell_type": "markdown",
   "metadata": {},
   "source": [
    "WARNING: FOLLOWING CODE TAKES 20MIN TO RUN. If testing, skip this chunk and load from json file instead. "
   ]
  },
  {
   "cell_type": "code",
   "execution_count": 9,
   "metadata": {},
   "outputs": [
    {
     "name": "stderr",
     "output_type": "stream",
     "text": [
      "  0%|          | 0/2066 [00:00<?, ?it/s]"
     ]
    },
    {
     "name": "stderr",
     "output_type": "stream",
     "text": [
      "100%|██████████| 2066/2066 [22:34<00:00,  1.53it/s]\n"
     ]
    }
   ],
   "source": [
    "all_contents = []\n",
    "for link in tqdm(df[\"comment_link\"]):\n",
    "    # Send a GET request to the specified link with the necessary headers\n",
    "    response = s.get(link, headers=headers)\n",
    "\n",
    "    # Check if the request was successful (status code 200)\n",
    "    if response.status_code == 200:\n",
    "        # Extract the content from the response\n",
    "        # We only want element 1 because response returns data on Post (which we don't want) and Comment (which we want)\n",
    "        content = response.json()[1]\n",
    "        all_contents.append(content)\n",
    "    else:\n",
    "        print(f\"Error: {response.status_code}\")\n",
    "        all_contents.append(None)\n",
    "    sleep(0.3) # add delay due to reddit's rate limit"
   ]
  },
  {
   "cell_type": "markdown",
   "metadata": {},
   "source": [
    "Write the result to a json file for testing, so that we don't have to scrape for 20 min every time.\n",
    "WARNING: will create a >100MB file, so don't commit it to github. Have added it to .gitignore"
   ]
  },
  {
   "cell_type": "code",
   "execution_count": 10,
   "metadata": {},
   "outputs": [],
   "source": [
    "with open('../data/all_comments.json', 'w') as f:\n",
    "    json.dump(all_contents, f, indent=4)"
   ]
  },
  {
   "cell_type": "markdown",
   "metadata": {},
   "source": [
    "## 3. 🎯Navigating to OP's recipe comment"
   ]
  },
  {
   "cell_type": "markdown",
   "metadata": {},
   "source": [
    "Open from json file if testing."
   ]
  },
  {
   "cell_type": "code",
   "execution_count": 12,
   "metadata": {},
   "outputs": [
    {
     "data": {
      "text/plain": [
       "2066"
      ]
     },
     "execution_count": 12,
     "metadata": {},
     "output_type": "execute_result"
    }
   ],
   "source": [
    "with open('../data/all_comments.json', 'r') as f:\n",
    "    all_contents = json.load(f)\n",
    "\n",
    "len(all_contents)"
   ]
  },
  {
   "cell_type": "markdown",
   "metadata": {},
   "source": [
    "We realised that under [\"children\"] there exists other posts made by the OP which are not the recipe, i.e. replies to other commenters.\n",
    "***Assumption**: the longest comment made by the OP is most likely to be the one containing the actual recipe.*"
   ]
  },
  {
   "cell_type": "code",
   "execution_count": 13,
   "metadata": {},
   "outputs": [],
   "source": [
    "# Iterate over each dictionary in the list\n",
    "recipe_comment_list = []\n",
    "for x in all_contents:\n",
    "    if x != None:\n",
    "        # Extract comments from each dictionary\n",
    "        comments = [comment[\"data\"][\"body\"] for comment in x[\"data\"][\"children\"]]\n",
    "\n",
    "        # Find the longest comment\n",
    "        if len(comments) != 0:\n",
    "            recipe_comment = max(comments, key=len)\n",
    "        else:\n",
    "            ingredient_comment = \"\"\n",
    "        recipe_comment_list.append(recipe_comment)\n",
    "    else:\n",
    "        recipe_comment_list.append(None)\n",
    "\n",
    "df.insert(df.columns.get_loc(\"comment_link\"), \"recipe_comment\", recipe_comment_list)"
   ]
  },
  {
   "cell_type": "markdown",
   "metadata": {},
   "source": [
    "Write to a json file in preparation for data cleanup, which will be done in the next notebook."
   ]
  },
  {
   "cell_type": "code",
   "execution_count": 14,
   "metadata": {},
   "outputs": [],
   "source": [
    "df.to_json('../data/posts_with_comments.json', orient='records', indent=4)"
   ]
  }
 ],
 "metadata": {
  "kernelspec": {
   "display_name": "Python 3",
   "language": "python",
   "name": "python3"
  },
  "language_info": {
   "codemirror_mode": {
    "name": "ipython",
    "version": 3
   },
   "file_extension": ".py",
   "mimetype": "text/x-python",
   "name": "python",
   "nbconvert_exporter": "python",
   "pygments_lexer": "ipython3",
   "version": "3.9.18"
  }
 },
 "nbformat": 4,
 "nbformat_minor": 2
}
