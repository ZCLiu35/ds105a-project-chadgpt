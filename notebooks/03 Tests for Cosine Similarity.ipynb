{
 "cells": [
  {
   "cell_type": "code",
   "execution_count": 16,
   "metadata": {},
   "outputs": [],
   "source": [
    "import requests               \n",
    "import pandas as pd          \n",
    "from scrapy import Selector \n",
    "import pprint \n",
    "from tqdm import tqdm"
   ]
  },
  {
   "cell_type": "code",
   "execution_count": null,
   "metadata": {},
   "outputs": [],
   "source": [
    "bbclink = 'https://www.bbcgoodfood.com/search?q='\n",
    "response = requests.get(bbclink)\n",
    "sel = Selector(text=response.text)\n",
    "links = []\n",
    "\n",
    "recipecards = sel.css('main div.search-results div.card__section.card__content a ::attr(href)').getall()\n",
    "links.extend(recipecards)  \n",
    "prefix = \"https://www.bbcgoodfood.com/recipes/\"\n",
    "final_links = [prefix + item for item in links] \n",
    "print(final_links)"
   ]
  },
  {
   "cell_type": "code",
   "execution_count": 17,
   "metadata": {},
   "outputs": [
    {
     "name": "stderr",
     "output_type": "stream",
     "text": [
      "100%|██████████| 10/10 [01:33<00:00,  9.38s/it]\n"
     ]
    },
    {
     "data": {
      "text/plain": [
       "10011"
      ]
     },
     "execution_count": 17,
     "metadata": {},
     "output_type": "execute_result"
    }
   ],
   "source": [
    "base_url = 'https://www.bbcgoodfood.com/search?q=&limit=1000&page='\n",
    "\n",
    "links = []\n",
    "for i in tqdm(range(1, 11)):\n",
    "    response = requests.get(base_url + str(i))\n",
    "    sel = Selector(text = response.text)\n",
    "    recipecards = sel.css('main div.search-results div.card__section.card__content a ::attr(href)').getall()\n",
    "    links.extend(recipecards)  \n",
    "\n",
    "prefix = \"https://www.bbcgoodfood.com/recipes/\"\n",
    "final_links = [prefix + item for item in links] \n",
    "\n",
    "len(final_links)"
   ]
  },
  {
   "cell_type": "markdown",
   "metadata": {},
   "source": [
    "### Create a DataFrame containing the nutritional data of all the recipes on BBCGoodFood "
   ]
  },
  {
   "cell_type": "code",
   "execution_count": 45,
   "metadata": {},
   "outputs": [
    {
     "name": "stderr",
     "output_type": "stream",
     "text": [
      "100%|██████████| 10011/10011 [2:44:43<00:00,  1.01it/s]\n"
     ]
    },
    {
     "data": {
      "text/html": [
       "<div>\n",
       "<style scoped>\n",
       "    .dataframe tbody tr th:only-of-type {\n",
       "        vertical-align: middle;\n",
       "    }\n",
       "\n",
       "    .dataframe tbody tr th {\n",
       "        vertical-align: top;\n",
       "    }\n",
       "\n",
       "    .dataframe thead th {\n",
       "        text-align: right;\n",
       "    }\n",
       "</style>\n",
       "<table border=\"1\" class=\"dataframe\">\n",
       "  <thead>\n",
       "    <tr style=\"text-align: right;\">\n",
       "      <th></th>\n",
       "      <th>name</th>\n",
       "      <th>calories</th>\n",
       "      <th>salt</th>\n",
       "      <th>fat</th>\n",
       "    </tr>\n",
       "  </thead>\n",
       "  <tbody>\n",
       "    <tr>\n",
       "      <th>0</th>\n",
       "      <td>Chicken &amp; chorizo jambalaya</td>\n",
       "      <td>445</td>\n",
       "      <td>1.2</td>\n",
       "      <td>10</td>\n",
       "    </tr>\n",
       "    <tr>\n",
       "      <th>1</th>\n",
       "      <td>Lemon drizzle cake</td>\n",
       "      <td>399</td>\n",
       "      <td>0.3</td>\n",
       "      <td>21</td>\n",
       "    </tr>\n",
       "    <tr>\n",
       "      <th>2</th>\n",
       "      <td>Chilli con carne recipe</td>\n",
       "      <td>387</td>\n",
       "      <td>2.32</td>\n",
       "      <td>17</td>\n",
       "    </tr>\n",
       "    <tr>\n",
       "      <th>3</th>\n",
       "      <td>Best ever chocolate brownies recipe</td>\n",
       "      <td>150</td>\n",
       "      <td>0.1</td>\n",
       "      <td>9</td>\n",
       "    </tr>\n",
       "    <tr>\n",
       "      <th>4</th>\n",
       "      <td>Creamy courgette lasagne</td>\n",
       "      <td>405</td>\n",
       "      <td>1.36</td>\n",
       "      <td>21</td>\n",
       "    </tr>\n",
       "  </tbody>\n",
       "</table>\n",
       "</div>"
      ],
      "text/plain": [
       "                                  name calories  salt fat\n",
       "0          Chicken & chorizo jambalaya      445   1.2  10\n",
       "1                   Lemon drizzle cake      399   0.3  21\n",
       "2              Chilli con carne recipe      387  2.32  17\n",
       "3  Best ever chocolate brownies recipe      150   0.1   9\n",
       "4             Creamy courgette lasagne      405  1.36  21"
      ]
     },
     "execution_count": 45,
     "metadata": {},
     "output_type": "execute_result"
    }
   ],
   "source": [
    "session = requests.Session()\n",
    "\n",
    "def get_nutrition(url):\n",
    "    response2 = session.get(url)\n",
    "    sel2 = Selector(text=response2.text)\n",
    "    table = sel2.css('table.key-value-blocks.hidden-print.mt-xxs')\n",
    "    bbc = {}\n",
    "    bbc['name'] = sel2.css('h1.heading-1 ::text').get()\n",
    "    bbc['calories'] = table.css('td.key-value-blocks__value ::text').get()\n",
    "    bbc['salt'] = table.xpath('.//*[contains(text(), \"salt\")]/..').css('td.key-value-blocks__value ::text').get()\n",
    "    bbc['fat'] = table.xpath('.//*[contains(text(), \"fat\")]/..').css('td.key-value-blocks__value ::text').get()\n",
    "    return bbc\n",
    "\n",
    "bbc = [get_nutrition(url) for url in tqdm(final_links)]\n",
    "\n",
    "df_bbc = pd.DataFrame(bbc)\n",
    "df_bbc.head()"
   ]
  },
  {
   "cell_type": "markdown",
   "metadata": {},
   "source": [
    "### Save the data as a CSV file "
   ]
  },
  {
   "cell_type": "code",
   "execution_count": 47,
   "metadata": {},
   "outputs": [],
   "source": [
    "df_bbc.to_csv('../data/bbc_data.csv', index=False)"
   ]
  },
  {
   "cell_type": "code",
   "execution_count": 3,
   "metadata": {},
   "outputs": [
    {
     "name": "stdout",
     "output_type": "stream",
     "text": [
      "[[-0.02184611  0.00591048  0.00187744 ... -0.00569096 -0.02545492\n",
      "  -0.01958655]\n",
      " [-0.01549129  0.00366342  0.00322168 ...  0.0223089  -0.02564218\n",
      "  -0.01029447]]\n"
     ]
    }
   ],
   "source": [
    "title1 = \"Creamy Lemon-Basil Chicken Pasta\"\n",
    "title2 = \"Chicken & bacon pasta\"\n",
    "\n",
    "from sentence_transformers import SentenceTransformer\n",
    "sentences = [title1, title2]\n",
    "\n",
    "model = SentenceTransformer('sentence-transformers/all-mpnet-base-v2')\n",
    "embeddings = model.encode(sentences)\n",
    "print(embeddings)\n"
   ]
  },
  {
   "cell_type": "code",
   "execution_count": 4,
   "metadata": {},
   "outputs": [
    {
     "name": "stdout",
     "output_type": "stream",
     "text": [
      "Cosine Similarity: 0.6690070629119873\n"
     ]
    }
   ],
   "source": [
    "from sklearn.metrics.pairwise import cosine_similarity\n",
    "embedding1 = embeddings[0].reshape(1, -1)\n",
    "embedding2 = embeddings[1].reshape(1, -1)\n",
    "\n",
    "# Calculate cosine similarity\n",
    "similarity_score = cosine_similarity(embedding1, embedding2)[0][0]\n",
    "print(f\"Cosine Similarity: {similarity_score}\")"
   ]
  }
 ],
 "metadata": {
  "kernelspec": {
   "display_name": "base",
   "language": "python",
   "name": "python3"
  },
  "language_info": {
   "codemirror_mode": {
    "name": "ipython",
    "version": 3
   },
   "file_extension": ".py",
   "mimetype": "text/x-python",
   "name": "python",
   "nbconvert_exporter": "python",
   "pygments_lexer": "ipython3",
   "version": "3.11.4"
  },
  "orig_nbformat": 4
 },
 "nbformat": 4,
 "nbformat_minor": 2
}
