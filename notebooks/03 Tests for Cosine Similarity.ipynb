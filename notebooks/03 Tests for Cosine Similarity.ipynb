{
 "cells": [
  {
   "cell_type": "code",
   "execution_count": 3,
   "metadata": {},
   "outputs": [
    {
     "name": "stdout",
     "output_type": "stream",
     "text": [
      "[[-0.02184611  0.00591048  0.00187744 ... -0.00569096 -0.02545492\n",
      "  -0.01958655]\n",
      " [-0.01549129  0.00366342  0.00322168 ...  0.0223089  -0.02564218\n",
      "  -0.01029447]]\n"
     ]
    }
   ],
   "source": [
    "title1 = \"Creamy Lemon-Basil Chicken Pasta\"\n",
    "title2 = \"Chicken & bacon pasta\"\n",
    "\n",
    "from sentence_transformers import SentenceTransformer\n",
    "sentences = [title1, title2]\n",
    "\n",
    "model = SentenceTransformer('sentence-transformers/all-mpnet-base-v2')\n",
    "embeddings = model.encode(sentences)\n",
    "print(embeddings)\n"
   ]
  },
  {
   "cell_type": "code",
   "execution_count": 4,
   "metadata": {},
   "outputs": [
    {
     "name": "stdout",
     "output_type": "stream",
     "text": [
      "Cosine Similarity: 0.6690070629119873\n"
     ]
    }
   ],
   "source": [
    "from sklearn.metrics.pairwise import cosine_similarity\n",
    "embedding1 = embeddings[0].reshape(1, -1)\n",
    "embedding2 = embeddings[1].reshape(1, -1)\n",
    "\n",
    "# Calculate cosine similarity\n",
    "similarity_score = cosine_similarity(embedding1, embedding2)[0][0]\n",
    "print(f\"Cosine Similarity: {similarity_score}\")"
   ]
  }
 ],
 "metadata": {
  "kernelspec": {
   "display_name": "base",
   "language": "python",
   "name": "python3"
  },
  "language_info": {
   "codemirror_mode": {
    "name": "ipython",
    "version": 3
   },
   "file_extension": ".py",
   "mimetype": "text/x-python",
   "name": "python",
   "nbconvert_exporter": "python",
   "pygments_lexer": "ipython3",
   "version": "3.11.4"
  },
  "orig_nbformat": 4
 },
 "nbformat": 4,
 "nbformat_minor": 2
}
