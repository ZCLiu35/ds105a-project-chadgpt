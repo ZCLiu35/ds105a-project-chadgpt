{
 "cells": [
  {
   "cell_type": "markdown",
   "metadata": {},
   "source": [
    "# ✅Step 3: Color Analysis on Pictures"
   ]
  },
  {
   "cell_type": "markdown",
   "metadata": {},
   "source": [
    "# 0. Import libraries"
   ]
  },
  {
   "cell_type": "code",
   "execution_count": 1,
   "metadata": {},
   "outputs": [],
   "source": [
    "import sys\n",
    "import json\n",
    "import requests as r\n",
    "\n",
    "import numpy\n",
    "import pandas as pd\n",
    "from scrapy import Selector\n",
    "\n",
    "import plotnine\n",
    "import altair\n",
    "import matplotlib.pyplot as plt\n",
    "\n",
    "from pprint import pprint\n",
    "from tqdm import tqdm\n",
    "\n",
    "# Import custom modules\n",
    "sys.path.append(\"../scripts/\")\n",
    "import chadtools"
   ]
  },
  {
   "cell_type": "markdown",
   "metadata": {},
   "source": [
    "## 🎯1. Load JSON"
   ]
  },
  {
   "cell_type": "code",
   "execution_count": 3,
   "metadata": {},
   "outputs": [],
   "source": [
    "with open(\"../data/all_data_flair_is_recipe.json\", \"r\") as f:\n",
    "    data = json.load(f)"
   ]
  },
  {
   "cell_type": "code",
   "execution_count": 5,
   "metadata": {},
   "outputs": [
    {
     "name": "stdout",
     "output_type": "stream",
     "text": [
      "{'data': {'all_awardings': [],\n",
      "          'allow_live_comments': False,\n",
      "          'approved_at_utc': None,\n",
      "          'approved_by': None,\n",
      "          'archived': False,\n",
      "          'author': 'elisetac',\n",
      "          'author_flair_background_color': None,\n",
      "          'author_flair_css_class': None,\n",
      "          'author_flair_richtext': [],\n",
      "          'author_flair_template_id': None,\n",
      "          'author_flair_text': None,\n",
      "          'author_flair_text_color': None,\n",
      "          'author_flair_type': 'text',\n",
      "          'author_fullname': 't2_g90hdupc',\n",
      "          'author_is_blocked': False,\n",
      "          'author_patreon_flair': False,\n",
      "          'author_premium': False,\n",
      "          'awarders': [],\n",
      "          'banned_at_utc': None,\n",
      "          'banned_by': None,\n",
      "          'can_gild': False,\n",
      "          'can_mod_post': False,\n",
      "          'category': None,\n",
      "          'clicked': False,\n",
      "          'content_categories': None,\n",
      "          'contest_mode': False,\n",
      "          'created': 1701749797.0,\n",
      "          'created_utc': 1701749797.0,\n",
      "          'discussion_type': None,\n",
      "          'distinguished': None,\n",
      "          'domain': 'i.redd.it',\n",
      "          'downs': 0,\n",
      "          'edited': False,\n",
      "          'gilded': 0,\n",
      "          'gildings': {},\n",
      "          'hidden': False,\n",
      "          'hide_score': False,\n",
      "          'id': '18b3ir1',\n",
      "          'is_created_from_ads_ui': False,\n",
      "          'is_crosspostable': True,\n",
      "          'is_meta': False,\n",
      "          'is_original_content': False,\n",
      "          'is_reddit_media_domain': True,\n",
      "          'is_robot_indexable': True,\n",
      "          'is_self': False,\n",
      "          'is_video': False,\n",
      "          'likes': None,\n",
      "          'link_flair_background_color': '#ffe66d',\n",
      "          'link_flair_css_class': 'recipe',\n",
      "          'link_flair_richtext': [{'e': 'text', 't': 'Recipe'}],\n",
      "          'link_flair_template_id': '10c35194-345a-11e3-b141-12313d1688a5',\n",
      "          'link_flair_text': 'Recipe',\n",
      "          'link_flair_text_color': 'dark',\n",
      "          'link_flair_type': 'richtext',\n",
      "          'locked': False,\n",
      "          'media': None,\n",
      "          'media_embed': {},\n",
      "          'media_only': False,\n",
      "          'mod_note': None,\n",
      "          'mod_reason_by': None,\n",
      "          'mod_reason_title': None,\n",
      "          'mod_reports': [],\n",
      "          'name': 't3_18b3ir1',\n",
      "          'no_follow': False,\n",
      "          'num_comments': 3,\n",
      "          'num_crossposts': 1,\n",
      "          'num_reports': None,\n",
      "          'over_18': False,\n",
      "          'parent_whitelist_status': 'all_ads',\n",
      "          'permalink': '/r/recipes/comments/18b3ir1/orange_cookies/',\n",
      "          'pinned': False,\n",
      "          'pwls': 6,\n",
      "          'quarantine': False,\n",
      "          'removal_reason': None,\n",
      "          'removed_by': None,\n",
      "          'removed_by_category': None,\n",
      "          'report_reasons': None,\n",
      "          'saved': False,\n",
      "          'score': 145,\n",
      "          'secure_media': None,\n",
      "          'secure_media_embed': {},\n",
      "          'selftext': '',\n",
      "          'selftext_html': None,\n",
      "          'send_replies': True,\n",
      "          'spoiler': False,\n",
      "          'stickied': False,\n",
      "          'subreddit': 'recipes',\n",
      "          'subreddit_id': 't5_2qh56',\n",
      "          'subreddit_name_prefixed': 'r/recipes',\n",
      "          'subreddit_subscribers': 3408390,\n",
      "          'subreddit_type': 'public',\n",
      "          'suggested_sort': None,\n",
      "          'thumbnail': '',\n",
      "          'title': 'Orange Cookies 🍊🧡',\n",
      "          'top_awarded_type': None,\n",
      "          'total_awards_received': 0,\n",
      "          'treatment_tags': [],\n",
      "          'ups': 145,\n",
      "          'upvote_ratio': 0.96,\n",
      "          'url': 'https://i.redd.it/37t5h7ssje4c1.jpg',\n",
      "          'url_overridden_by_dest': 'https://i.redd.it/37t5h7ssje4c1.jpg',\n",
      "          'user_reports': [],\n",
      "          'view_count': None,\n",
      "          'visited': False,\n",
      "          'whitelist_status': 'all_ads',\n",
      "          'wls': 6},\n",
      " 'kind': 't3'}\n"
     ]
    }
   ],
   "source": [
    "pprint(data[0])"
   ]
  }
 ],
 "metadata": {
  "kernelspec": {
   "display_name": "ds105",
   "language": "python",
   "name": "python3"
  },
  "language_info": {
   "codemirror_mode": {
    "name": "ipython",
    "version": 3
   },
   "file_extension": ".py",
   "mimetype": "text/x-python",
   "name": "python",
   "nbconvert_exporter": "python",
   "pygments_lexer": "ipython3",
   "version": "3.9.18"
  }
 },
 "nbformat": 4,
 "nbformat_minor": 2
}
