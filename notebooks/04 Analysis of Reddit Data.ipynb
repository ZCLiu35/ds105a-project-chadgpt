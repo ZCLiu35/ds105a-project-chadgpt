{
 "cells": [
  {
   "cell_type": "markdown",
   "metadata": {},
   "source": [
    "## 0. 🎯Import libraries"
   ]
  },
  {
   "cell_type": "code",
   "execution_count": 10,
   "metadata": {},
   "outputs": [],
   "source": [
    "import pandas as pd\n",
    "from plotnine import ggplot, aes, geom_histogram, geom_bar, facet_wrap, theme_minimal, ggtitle, themes, element_text, geom_bar, coord_flip, scale_x_discrete, labs\n",
    "from plotnine.data import mtcars\n",
    "from pprint import pprint"
   ]
  },
  {
   "cell_type": "markdown",
   "metadata": {},
   "source": [
    "## 1. 🎯Load DataFrame"
   ]
  },
  {
   "cell_type": "code",
   "execution_count": 11,
   "metadata": {},
   "outputs": [
    {
     "data": {
      "text/html": [
       "<div>\n",
       "<style scoped>\n",
       "    .dataframe tbody tr th:only-of-type {\n",
       "        vertical-align: middle;\n",
       "    }\n",
       "\n",
       "    .dataframe tbody tr th {\n",
       "        vertical-align: top;\n",
       "    }\n",
       "\n",
       "    .dataframe thead th {\n",
       "        text-align: right;\n",
       "    }\n",
       "</style>\n",
       "<table border=\"1\" class=\"dataframe\">\n",
       "  <thead>\n",
       "    <tr style=\"text-align: right;\">\n",
       "      <th></th>\n",
       "      <th>id</th>\n",
       "      <th>title</th>\n",
       "      <th>gpt_ingredients</th>\n",
       "      <th>ingredient_comment_truncated</th>\n",
       "      <th>score</th>\n",
       "      <th>upvote_ratio</th>\n",
       "      <th>link_flair_text</th>\n",
       "      <th>author</th>\n",
       "      <th>created_utc</th>\n",
       "      <th>url</th>\n",
       "      <th>permalink</th>\n",
       "    </tr>\n",
       "  </thead>\n",
       "  <tbody>\n",
       "    <tr>\n",
       "      <th>0</th>\n",
       "      <td>1ah8m5s</td>\n",
       "      <td>Thai Green Curry Chicken Satay</td>\n",
       "      <td>[chicken satay, homemade green curry paste, ve...</td>\n",
       "      <td>You could use any curry paste you like. Do you...</td>\n",
       "      <td>41</td>\n",
       "      <td>0.870117</td>\n",
       "      <td>Recipe</td>\n",
       "      <td>butchec</td>\n",
       "      <td>1706893611000</td>\n",
       "      <td>https://i.redd.it/g5xtfz2ve7gc1.jpeg</td>\n",
       "      <td>https://reddit.com/r/recipes/comments/1ah8m5s/...</td>\n",
       "    </tr>\n",
       "    <tr>\n",
       "      <th>1</th>\n",
       "      <td>1afoma3</td>\n",
       "      <td>Sweet and Sour Tofu</td>\n",
       "      <td>[tofu, ground black pepper, salt, cornstarch, ...</td>\n",
       "      <td>I love figuring out ways to make tofu deliciou...</td>\n",
       "      <td>54</td>\n",
       "      <td>0.890137</td>\n",
       "      <td>Recipe</td>\n",
       "      <td>parisrosaries</td>\n",
       "      <td>1706725321000</td>\n",
       "      <td>https://i.redd.it/9nhm0k2mitfc1.jpeg</td>\n",
       "      <td>https://reddit.com/r/recipes/comments/1afoma3/...</td>\n",
       "    </tr>\n",
       "    <tr>\n",
       "      <th>2</th>\n",
       "      <td>1aez4r2</td>\n",
       "      <td>Pork Tenderloin Sous Vide</td>\n",
       "      <td>[tenderloin, salt, fresh ground pepper, smoked...</td>\n",
       "      <td>**Ingredients:**\\n\\n**Tenderloin**\\n\\n* 1 Pork...</td>\n",
       "      <td>28</td>\n",
       "      <td>0.689941</td>\n",
       "      <td>Recipe</td>\n",
       "      <td>hoosyourdaddyo</td>\n",
       "      <td>1706648218000</td>\n",
       "      <td>https://i.redd.it/tq0z0nkd5nfc1.jpeg</td>\n",
       "      <td>https://reddit.com/r/recipes/comments/1aez4r2/...</td>\n",
       "    </tr>\n",
       "    <tr>\n",
       "      <th>3</th>\n",
       "      <td>1aeyb09</td>\n",
       "      <td>Marble Cookies (Recipe)</td>\n",
       "      <td>[butter, brown sugar, white sugar, vanilla ext...</td>\n",
       "      <td>[Recipe Link](https://www.sarahfreia.com/blog/...</td>\n",
       "      <td>67</td>\n",
       "      <td>0.930176</td>\n",
       "      <td>Recipe</td>\n",
       "      <td>sarahfreia</td>\n",
       "      <td>1706646194000</td>\n",
       "      <td>https://i.redd.it/r0bq289bzmfc1.png</td>\n",
       "      <td>https://reddit.com/r/recipes/comments/1aeyb09/...</td>\n",
       "    </tr>\n",
       "    <tr>\n",
       "      <th>4</th>\n",
       "      <td>1acg1pq</td>\n",
       "      <td>SAVORY CREPE CAKE WITH MINCED MEAT AND BELL PE...</td>\n",
       "      <td>[milk, eggs, water, salt, flour, oil, ground b...</td>\n",
       "      <td>See how I made them [here](https://youtu.be/W8...</td>\n",
       "      <td>9</td>\n",
       "      <td>0.919922</td>\n",
       "      <td>Recipe</td>\n",
       "      <td>Minastella</td>\n",
       "      <td>1706376629000</td>\n",
       "      <td>https://i.redd.it/hd43dtgrn0fc1.jpeg</td>\n",
       "      <td>https://reddit.com/r/recipes/comments/1acg1pq/...</td>\n",
       "    </tr>\n",
       "  </tbody>\n",
       "</table>\n",
       "</div>"
      ],
      "text/plain": [
       "        id                                              title  \\\n",
       "0  1ah8m5s                     Thai Green Curry Chicken Satay   \n",
       "1  1afoma3                                Sweet and Sour Tofu   \n",
       "2  1aez4r2                          Pork Tenderloin Sous Vide   \n",
       "3  1aeyb09                            Marble Cookies (Recipe)   \n",
       "4  1acg1pq  SAVORY CREPE CAKE WITH MINCED MEAT AND BELL PE...   \n",
       "\n",
       "                                     gpt_ingredients  \\\n",
       "0  [chicken satay, homemade green curry paste, ve...   \n",
       "1  [tofu, ground black pepper, salt, cornstarch, ...   \n",
       "2  [tenderloin, salt, fresh ground pepper, smoked...   \n",
       "3  [butter, brown sugar, white sugar, vanilla ext...   \n",
       "4  [milk, eggs, water, salt, flour, oil, ground b...   \n",
       "\n",
       "                        ingredient_comment_truncated  score  upvote_ratio  \\\n",
       "0  You could use any curry paste you like. Do you...     41      0.870117   \n",
       "1  I love figuring out ways to make tofu deliciou...     54      0.890137   \n",
       "2  **Ingredients:**\\n\\n**Tenderloin**\\n\\n* 1 Pork...     28      0.689941   \n",
       "3  [Recipe Link](https://www.sarahfreia.com/blog/...     67      0.930176   \n",
       "4  See how I made them [here](https://youtu.be/W8...      9      0.919922   \n",
       "\n",
       "  link_flair_text          author    created_utc  \\\n",
       "0          Recipe         butchec  1706893611000   \n",
       "1          Recipe   parisrosaries  1706725321000   \n",
       "2          Recipe  hoosyourdaddyo  1706648218000   \n",
       "3          Recipe      sarahfreia  1706646194000   \n",
       "4          Recipe      Minastella  1706376629000   \n",
       "\n",
       "                                    url  \\\n",
       "0  https://i.redd.it/g5xtfz2ve7gc1.jpeg   \n",
       "1  https://i.redd.it/9nhm0k2mitfc1.jpeg   \n",
       "2  https://i.redd.it/tq0z0nkd5nfc1.jpeg   \n",
       "3   https://i.redd.it/r0bq289bzmfc1.png   \n",
       "4  https://i.redd.it/hd43dtgrn0fc1.jpeg   \n",
       "\n",
       "                                           permalink  \n",
       "0  https://reddit.com/r/recipes/comments/1ah8m5s/...  \n",
       "1  https://reddit.com/r/recipes/comments/1afoma3/...  \n",
       "2  https://reddit.com/r/recipes/comments/1aez4r2/...  \n",
       "3  https://reddit.com/r/recipes/comments/1aeyb09/...  \n",
       "4  https://reddit.com/r/recipes/comments/1acg1pq/...  "
      ]
     },
     "execution_count": 11,
     "metadata": {},
     "output_type": "execute_result"
    }
   ],
   "source": [
    "# Load the DataFrame from the file\n",
    "filtered_df_posts = pd.read_json('../data/cleaned_posts_with_ingredient_list.json')\n",
    "filtered_df_posts.head()"
   ]
  },
  {
   "cell_type": "code",
   "execution_count": 12,
   "metadata": {},
   "outputs": [],
   "source": [
    "flair_names = ['Recipe', 'Dessert', 'Pasta', 'Poultry', 'Vegetarian', 'Drink', 'Beef', 'Pork', 'Seafood']"
   ]
  },
  {
   "cell_type": "markdown",
   "metadata": {},
   "source": [
    "## 2. 📊Plot data"
   ]
  },
  {
   "cell_type": "markdown",
   "metadata": {},
   "source": [
    "We first plot a histogram of the upvote ratio of all the posts."
   ]
  },
  {
   "cell_type": "code",
   "execution_count": 6,
   "metadata": {},
   "outputs": [
    {
     "name": "stderr",
     "output_type": "stream",
     "text": [
      "C:\\Users\\clare\\AppData\\Local\\Packages\\PythonSoftwareFoundation.Python.3.11_qbz5n2kfra8p0\\LocalCache\\local-packages\\Python311\\site-packages\\plotnine\\ggplot.py:587: PlotnineWarning: Saving 6.4 x 4.8 in image.\n",
      "C:\\Users\\clare\\AppData\\Local\\Packages\\PythonSoftwareFoundation.Python.3.11_qbz5n2kfra8p0\\LocalCache\\local-packages\\Python311\\site-packages\\plotnine\\ggplot.py:588: PlotnineWarning: Filename: ../plots/plot_all.jpg\n"
     ]
    }
   ],
   "source": [
    "plot = (\n",
    "    ggplot(\n",
    "    filtered_df_posts, aes(x='upvote_ratio')) + \n",
    "    geom_histogram(binwidth=0.01, fill='#5c3da4') + \n",
    "    themes.theme_matplotlib() + \n",
    "    ggtitle(\"Upvote ratio for all posts\") + \n",
    "    themes.theme(plot_title = element_text(weight='bold', color=\"black\")) +\n",
    "    themes.theme(aspect_ratio=9/16)\n",
    ")\n",
    "plot.save(f\"../plots/plot_all_upvote_ratio.jpg\", format=\"jpg\", dpi=600)"
   ]
  },
  {
   "cell_type": "markdown",
   "metadata": {},
   "source": [
    "We now separate the data by flair type to understand how well-received each type of recipe is."
   ]
  },
  {
   "cell_type": "code",
   "execution_count": 7,
   "metadata": {},
   "outputs": [
    {
     "name": "stderr",
     "output_type": "stream",
     "text": [
      "C:\\Users\\clare\\AppData\\Local\\Packages\\PythonSoftwareFoundation.Python.3.11_qbz5n2kfra8p0\\LocalCache\\local-packages\\Python311\\site-packages\\plotnine\\ggplot.py:587: PlotnineWarning: Saving 6.4 x 4.8 in image.\n",
      "C:\\Users\\clare\\AppData\\Local\\Packages\\PythonSoftwareFoundation.Python.3.11_qbz5n2kfra8p0\\LocalCache\\local-packages\\Python311\\site-packages\\plotnine\\ggplot.py:588: PlotnineWarning: Filename: ../plots/plot_Recipe.jpg\n",
      "C:\\Users\\clare\\AppData\\Local\\Packages\\PythonSoftwareFoundation.Python.3.11_qbz5n2kfra8p0\\LocalCache\\local-packages\\Python311\\site-packages\\plotnine\\ggplot.py:587: PlotnineWarning: Saving 6.4 x 4.8 in image.\n",
      "C:\\Users\\clare\\AppData\\Local\\Packages\\PythonSoftwareFoundation.Python.3.11_qbz5n2kfra8p0\\LocalCache\\local-packages\\Python311\\site-packages\\plotnine\\ggplot.py:588: PlotnineWarning: Filename: ../plots/plot_Dessert.jpg\n",
      "C:\\Users\\clare\\AppData\\Local\\Packages\\PythonSoftwareFoundation.Python.3.11_qbz5n2kfra8p0\\LocalCache\\local-packages\\Python311\\site-packages\\plotnine\\ggplot.py:587: PlotnineWarning: Saving 6.4 x 4.8 in image.\n",
      "C:\\Users\\clare\\AppData\\Local\\Packages\\PythonSoftwareFoundation.Python.3.11_qbz5n2kfra8p0\\LocalCache\\local-packages\\Python311\\site-packages\\plotnine\\ggplot.py:588: PlotnineWarning: Filename: ../plots/plot_Pasta.jpg\n",
      "C:\\Users\\clare\\AppData\\Local\\Packages\\PythonSoftwareFoundation.Python.3.11_qbz5n2kfra8p0\\LocalCache\\local-packages\\Python311\\site-packages\\plotnine\\ggplot.py:587: PlotnineWarning: Saving 6.4 x 4.8 in image.\n",
      "C:\\Users\\clare\\AppData\\Local\\Packages\\PythonSoftwareFoundation.Python.3.11_qbz5n2kfra8p0\\LocalCache\\local-packages\\Python311\\site-packages\\plotnine\\ggplot.py:588: PlotnineWarning: Filename: ../plots/plot_Poultry.jpg\n",
      "C:\\Users\\clare\\AppData\\Local\\Packages\\PythonSoftwareFoundation.Python.3.11_qbz5n2kfra8p0\\LocalCache\\local-packages\\Python311\\site-packages\\plotnine\\ggplot.py:587: PlotnineWarning: Saving 6.4 x 4.8 in image.\n",
      "C:\\Users\\clare\\AppData\\Local\\Packages\\PythonSoftwareFoundation.Python.3.11_qbz5n2kfra8p0\\LocalCache\\local-packages\\Python311\\site-packages\\plotnine\\ggplot.py:588: PlotnineWarning: Filename: ../plots/plot_Vegetarian.jpg\n",
      "C:\\Users\\clare\\AppData\\Local\\Packages\\PythonSoftwareFoundation.Python.3.11_qbz5n2kfra8p0\\LocalCache\\local-packages\\Python311\\site-packages\\plotnine\\ggplot.py:587: PlotnineWarning: Saving 6.4 x 4.8 in image.\n",
      "C:\\Users\\clare\\AppData\\Local\\Packages\\PythonSoftwareFoundation.Python.3.11_qbz5n2kfra8p0\\LocalCache\\local-packages\\Python311\\site-packages\\plotnine\\ggplot.py:588: PlotnineWarning: Filename: ../plots/plot_Drink.jpg\n",
      "C:\\Users\\clare\\AppData\\Local\\Packages\\PythonSoftwareFoundation.Python.3.11_qbz5n2kfra8p0\\LocalCache\\local-packages\\Python311\\site-packages\\plotnine\\ggplot.py:587: PlotnineWarning: Saving 6.4 x 4.8 in image.\n",
      "C:\\Users\\clare\\AppData\\Local\\Packages\\PythonSoftwareFoundation.Python.3.11_qbz5n2kfra8p0\\LocalCache\\local-packages\\Python311\\site-packages\\plotnine\\ggplot.py:588: PlotnineWarning: Filename: ../plots/plot_Beef.jpg\n",
      "C:\\Users\\clare\\AppData\\Local\\Packages\\PythonSoftwareFoundation.Python.3.11_qbz5n2kfra8p0\\LocalCache\\local-packages\\Python311\\site-packages\\plotnine\\ggplot.py:587: PlotnineWarning: Saving 6.4 x 4.8 in image.\n",
      "C:\\Users\\clare\\AppData\\Local\\Packages\\PythonSoftwareFoundation.Python.3.11_qbz5n2kfra8p0\\LocalCache\\local-packages\\Python311\\site-packages\\plotnine\\ggplot.py:588: PlotnineWarning: Filename: ../plots/plot_Pork.jpg\n",
      "C:\\Users\\clare\\AppData\\Local\\Packages\\PythonSoftwareFoundation.Python.3.11_qbz5n2kfra8p0\\LocalCache\\local-packages\\Python311\\site-packages\\plotnine\\ggplot.py:587: PlotnineWarning: Saving 6.4 x 4.8 in image.\n",
      "C:\\Users\\clare\\AppData\\Local\\Packages\\PythonSoftwareFoundation.Python.3.11_qbz5n2kfra8p0\\LocalCache\\local-packages\\Python311\\site-packages\\plotnine\\ggplot.py:588: PlotnineWarning: Filename: ../plots/plot_Seafood.jpg\n"
     ]
    }
   ],
   "source": [
    "for flair in flair_names:\n",
    "    plot = (\n",
    "        ggplot(filtered_df_posts[filtered_df_posts[\"link_flair_text\"] == flair], aes(x='upvote_ratio')) + \n",
    "        geom_histogram(binwidth=0.01, fill='#5c3da4') +\n",
    "        themes.theme_matplotlib() +\n",
    "        ggtitle(f\"Frequency of {flair} posts by upvote ratio\") +\n",
    "        themes.theme(plot_title = element_text(weight='bold', color=\"black\")) +\n",
    "        themes.theme(aspect_ratio=9/16)\n",
    "    )\n",
    "    plot.save(f\"../plots/plot_{flair}_upvote_ratio.jpg\".replace(\"\\\\\", \"\"), format=\"jpg\", dpi=600)"
   ]
  },
  {
   "cell_type": "markdown",
   "metadata": {},
   "source": [
    "Another way to investigate the reception of different recipe types is to count the number of each type of recipe found in the most popular recipes. We will use the top 10% of posts by upvote ratio."
   ]
  },
  {
   "cell_type": "code",
   "execution_count": 15,
   "metadata": {},
   "outputs": [
    {
     "name": "stderr",
     "output_type": "stream",
     "text": [
      "c:\\Users\\Zicheng Liu\\.conda\\envs\\ds105\\lib\\site-packages\\plotnine\\ggplot.py:587: PlotnineWarning: Saving 6.4 x 4.8 in image.\n",
      "c:\\Users\\Zicheng Liu\\.conda\\envs\\ds105\\lib\\site-packages\\plotnine\\ggplot.py:588: PlotnineWarning: Filename: ../plots/plot_top_10_percent_upvote_ratio.jpg\n",
      "c:\\Users\\Zicheng Liu\\.conda\\envs\\ds105\\lib\\site-packages\\mizani\\scale.py:210: FutureWarning: is_categorical_dtype is deprecated and will be removed in a future version. Use isinstance(dtype, CategoricalDtype) instead\n",
      "c:\\Users\\Zicheng Liu\\.conda\\envs\\ds105\\lib\\site-packages\\mizani\\scale.py:223: FutureWarning: is_categorical_dtype is deprecated and will be removed in a future version. Use isinstance(dtype, CategoricalDtype) instead\n"
     ]
    }
   ],
   "source": [
    "# Sort by upvote ratio in descending order\n",
    "df_sorted_by_upvote_ratio = filtered_df_posts.sort_values(by='upvote_ratio', ascending=False)\n",
    "\n",
    "# Calculate the number of rows for the top 10%\n",
    "top_10_percent_by_upvote_ratio = int(0.1 * len(df_sorted_by_upvote_ratio))\n",
    "\n",
    "# Take the top 10% of the DataFrame\n",
    "top_10_df = df_sorted_by_upvote_ratio.head(top_10_percent_by_upvote_ratio)\n",
    "\n",
    "ordered_flair_list = top_10_df['link_flair_text'].value_counts().index.tolist()\n",
    "# Plot a bar graph showing the number of posts from different flairs\n",
    "plot = (ggplot(top_10_df, aes(x=\"link_flair_text\")) +\n",
    "       geom_bar(fill='#5c3da4') +\n",
    "       coord_flip() +\n",
    "       ggtitle(\"Top 10% of posts by upvote ratio\") +\n",
    "       scale_x_discrete(limits=ordered_flair_list[::-1]) +\n",
    "       themes.theme(plot_title = element_text(weight='bold', color=\"black\")) +\n",
    "       themes.theme(aspect_ratio=9/16) +\n",
    "       labs(x=\"Flair\", y=\"Number of posts\")\n",
    ")\n",
    "\n",
    "plot.save(f\"../plots/plot_top_10_percent_upvote_ratio.jpg\", format=\"jpg\", dpi=600)"
   ]
  },
  {
   "cell_type": "markdown",
   "metadata": {},
   "source": [
    "What about for absolute popularity? We repeat the same analysis but use the number of upvotes instead of the upvote ratio."
   ]
  },
  {
   "cell_type": "code",
   "execution_count": 16,
   "metadata": {},
   "outputs": [
    {
     "name": "stderr",
     "output_type": "stream",
     "text": [
      "c:\\Users\\Zicheng Liu\\.conda\\envs\\ds105\\lib\\site-packages\\plotnine\\ggplot.py:587: PlotnineWarning: Saving 6.4 x 4.8 in image.\n",
      "c:\\Users\\Zicheng Liu\\.conda\\envs\\ds105\\lib\\site-packages\\plotnine\\ggplot.py:588: PlotnineWarning: Filename: ../plots/plot_top_10_percent_score.jpg\n",
      "c:\\Users\\Zicheng Liu\\.conda\\envs\\ds105\\lib\\site-packages\\mizani\\scale.py:210: FutureWarning: is_categorical_dtype is deprecated and will be removed in a future version. Use isinstance(dtype, CategoricalDtype) instead\n",
      "c:\\Users\\Zicheng Liu\\.conda\\envs\\ds105\\lib\\site-packages\\mizani\\scale.py:223: FutureWarning: is_categorical_dtype is deprecated and will be removed in a future version. Use isinstance(dtype, CategoricalDtype) instead\n"
     ]
    }
   ],
   "source": [
    "df_sorted_by_score = filtered_df_posts.sort_values(by='score', ascending=False)\n",
    "\n",
    "# Calculate the number of rows for the top 10%\n",
    "top_10_percent_by_score = int(0.1 * len(df_sorted_by_score))\n",
    "\n",
    "# Take the top 10% of the DataFrame\n",
    "top_10_df = df_sorted_by_score.head(top_10_percent_by_score)\n",
    "\n",
    "ordered_flair_list = top_10_df['link_flair_text'].value_counts().index.tolist()\n",
    "# Plot a bar graph showing the number of posts from different flairs\n",
    "plot = (ggplot(top_10_df, aes(x=\"link_flair_text\")) +\n",
    "       geom_bar(fill='#5c3da4') +\n",
    "       coord_flip() +\n",
    "       ggtitle(\"Top 10% of posts by absolute score\") +\n",
    "       scale_x_discrete(limits=ordered_flair_list[::-1]) +\n",
    "       themes.theme(plot_title = element_text(weight='bold', color=\"black\")) +\n",
    "       themes.theme(aspect_ratio=9/16) +\n",
    "       labs(x=\"Flair\", y=\"Number of posts\")\n",
    ")\n",
    "\n",
    "plot.save(f\"../plots/plot_top_10_percent_score.jpg\", format=\"jpg\", dpi=600)"
   ]
  },
  {
   "cell_type": "markdown",
   "metadata": {},
   "source": [
    "Further elaboration on the plots can be found on the website."
   ]
  }
 ],
 "metadata": {
  "kernelspec": {
   "display_name": "base",
   "language": "python",
   "name": "python3"
  },
  "language_info": {
   "codemirror_mode": {
    "name": "ipython",
    "version": 3
   },
   "file_extension": ".py",
   "mimetype": "text/x-python",
   "name": "python",
   "nbconvert_exporter": "python",
   "pygments_lexer": "ipython3",
   "version": "3.11.7"
  }
 },
 "nbformat": 4,
 "nbformat_minor": 2
}
