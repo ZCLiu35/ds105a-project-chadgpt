{
 "cells": [
  {
   "cell_type": "markdown",
   "metadata": {},
   "source": [
    "# ✅Step 4. Analysis of Reddit Data"
   ]
  },
  {
   "cell_type": "markdown",
   "metadata": {},
   "source": [
    "## 0. 🎯Import libraries"
   ]
  },
  {
   "cell_type": "code",
   "execution_count": 1,
   "metadata": {},
   "outputs": [],
   "source": [
    "import pandas as pd\n",
    "from plotnine import ggplot, aes, geom_histogram, geom_bar, facet_wrap, theme_minimal, ggtitle, themes, element_text, geom_bar, coord_flip, scale_x_discrete, labs\n",
    "from plotnine.data import mtcars\n",
    "from pprint import pprint"
   ]
  },
  {
   "cell_type": "markdown",
   "metadata": {},
   "source": [
    "## 1. 🎯Load DataFrame"
   ]
  },
  {
   "cell_type": "code",
   "execution_count": 3,
   "metadata": {},
   "outputs": [
    {
     "data": {
      "text/html": [
       "<div>\n",
       "<style scoped>\n",
       "    .dataframe tbody tr th:only-of-type {\n",
       "        vertical-align: middle;\n",
       "    }\n",
       "\n",
       "    .dataframe tbody tr th {\n",
       "        vertical-align: top;\n",
       "    }\n",
       "\n",
       "    .dataframe thead th {\n",
       "        text-align: right;\n",
       "    }\n",
       "</style>\n",
       "<table border=\"1\" class=\"dataframe\">\n",
       "  <thead>\n",
       "    <tr style=\"text-align: right;\">\n",
       "      <th></th>\n",
       "      <th>id</th>\n",
       "      <th>title</th>\n",
       "      <th>gpt_ingredients</th>\n",
       "      <th>cuisine</th>\n",
       "      <th>ingredient_comment</th>\n",
       "      <th>score</th>\n",
       "      <th>upvote_ratio</th>\n",
       "      <th>link_flair_text</th>\n",
       "      <th>author</th>\n",
       "      <th>created_utc</th>\n",
       "      <th>url</th>\n",
       "      <th>permalink</th>\n",
       "    </tr>\n",
       "  </thead>\n",
       "  <tbody>\n",
       "    <tr>\n",
       "      <th>0</th>\n",
       "      <td>1ai8ccv</td>\n",
       "      <td>Crispy Jumbo Potato Chips</td>\n",
       "      <td>[fresh russets, canola oil, lye water (koon ch...</td>\n",
       "      <td>american</td>\n",
       "      <td># Crispy Jumbo Potato Chips \\n\\n**Ingredients*...</td>\n",
       "      <td>139</td>\n",
       "      <td>0.910156</td>\n",
       "      <td>Recipe</td>\n",
       "      <td>TimSumrall</td>\n",
       "      <td>1707000025000</td>\n",
       "      <td>https://i.redd.it/8gyi3cc47ggc1.jpeg</td>\n",
       "      <td>https://reddit.com/r/recipes/comments/1ai8ccv/...</td>\n",
       "    </tr>\n",
       "    <tr>\n",
       "      <th>1</th>\n",
       "      <td>1ah8m5s</td>\n",
       "      <td>Thai Green Curry Chicken Satay</td>\n",
       "      <td>[chicken satay, homemade green curry paste, ve...</td>\n",
       "      <td>thai</td>\n",
       "      <td>You could use any curry paste you like. Do you...</td>\n",
       "      <td>49</td>\n",
       "      <td>0.879883</td>\n",
       "      <td>Recipe</td>\n",
       "      <td>butchec</td>\n",
       "      <td>1706893611000</td>\n",
       "      <td>https://i.redd.it/g5xtfz2ve7gc1.jpeg</td>\n",
       "      <td>https://reddit.com/r/recipes/comments/1ah8m5s/...</td>\n",
       "    </tr>\n",
       "    <tr>\n",
       "      <th>2</th>\n",
       "      <td>1ag9jx2</td>\n",
       "      <td>Potato Pavé</td>\n",
       "      <td>[flavor. \\n\\ningredients:\\n- potatoes\\n- garli...</td>\n",
       "      <td>french</td>\n",
       "      <td>A French side dish that goes well with anythin...</td>\n",
       "      <td>268</td>\n",
       "      <td>0.979980</td>\n",
       "      <td>Recipe</td>\n",
       "      <td>TimSumrall</td>\n",
       "      <td>1706789454000</td>\n",
       "      <td>https://i.redd.it/1fy6x4t3tyfc1.jpeg</td>\n",
       "      <td>https://reddit.com/r/recipes/comments/1ag9jx2/...</td>\n",
       "    </tr>\n",
       "    <tr>\n",
       "      <th>3</th>\n",
       "      <td>1afs8r5</td>\n",
       "      <td>Pretzels 🥨</td>\n",
       "      <td>[warm water, warm milk, sugar, active dry yeas...</td>\n",
       "      <td>german</td>\n",
       "      <td>Yield: 8 medium pretzels\\n\\nSee how I made the...</td>\n",
       "      <td>120</td>\n",
       "      <td>0.939941</td>\n",
       "      <td>Recipe</td>\n",
       "      <td>shushyum</td>\n",
       "      <td>1706734068000</td>\n",
       "      <td>https://i.redd.it/v8e6vvxh8ufc1.jpeg</td>\n",
       "      <td>https://reddit.com/r/recipes/comments/1afs8r5/...</td>\n",
       "    </tr>\n",
       "    <tr>\n",
       "      <th>4</th>\n",
       "      <td>1afoma3</td>\n",
       "      <td>Sweet and Sour Tofu</td>\n",
       "      <td>[tofu, ground black pepper, salt, cornstarch, ...</td>\n",
       "      <td>chinese</td>\n",
       "      <td>I love figuring out ways to make tofu deliciou...</td>\n",
       "      <td>59</td>\n",
       "      <td>0.890137</td>\n",
       "      <td>Recipe</td>\n",
       "      <td>parisrosaries</td>\n",
       "      <td>1706725321000</td>\n",
       "      <td>https://i.redd.it/9nhm0k2mitfc1.jpeg</td>\n",
       "      <td>https://reddit.com/r/recipes/comments/1afoma3/...</td>\n",
       "    </tr>\n",
       "  </tbody>\n",
       "</table>\n",
       "</div>"
      ],
      "text/plain": [
       "        id                           title  \\\n",
       "0  1ai8ccv       Crispy Jumbo Potato Chips   \n",
       "1  1ah8m5s  Thai Green Curry Chicken Satay   \n",
       "2  1ag9jx2                     Potato Pavé   \n",
       "3  1afs8r5                      Pretzels 🥨   \n",
       "4  1afoma3             Sweet and Sour Tofu   \n",
       "\n",
       "                                     gpt_ingredients   cuisine  \\\n",
       "0  [fresh russets, canola oil, lye water (koon ch...  american   \n",
       "1  [chicken satay, homemade green curry paste, ve...      thai   \n",
       "2  [flavor. \\n\\ningredients:\\n- potatoes\\n- garli...    french   \n",
       "3  [warm water, warm milk, sugar, active dry yeas...    german   \n",
       "4  [tofu, ground black pepper, salt, cornstarch, ...   chinese   \n",
       "\n",
       "                                  ingredient_comment  score  upvote_ratio  \\\n",
       "0  # Crispy Jumbo Potato Chips \\n\\n**Ingredients*...    139      0.910156   \n",
       "1  You could use any curry paste you like. Do you...     49      0.879883   \n",
       "2  A French side dish that goes well with anythin...    268      0.979980   \n",
       "3  Yield: 8 medium pretzels\\n\\nSee how I made the...    120      0.939941   \n",
       "4  I love figuring out ways to make tofu deliciou...     59      0.890137   \n",
       "\n",
       "  link_flair_text         author    created_utc  \\\n",
       "0          Recipe     TimSumrall  1707000025000   \n",
       "1          Recipe        butchec  1706893611000   \n",
       "2          Recipe     TimSumrall  1706789454000   \n",
       "3          Recipe       shushyum  1706734068000   \n",
       "4          Recipe  parisrosaries  1706725321000   \n",
       "\n",
       "                                    url  \\\n",
       "0  https://i.redd.it/8gyi3cc47ggc1.jpeg   \n",
       "1  https://i.redd.it/g5xtfz2ve7gc1.jpeg   \n",
       "2  https://i.redd.it/1fy6x4t3tyfc1.jpeg   \n",
       "3  https://i.redd.it/v8e6vvxh8ufc1.jpeg   \n",
       "4  https://i.redd.it/9nhm0k2mitfc1.jpeg   \n",
       "\n",
       "                                           permalink  \n",
       "0  https://reddit.com/r/recipes/comments/1ai8ccv/...  \n",
       "1  https://reddit.com/r/recipes/comments/1ah8m5s/...  \n",
       "2  https://reddit.com/r/recipes/comments/1ag9jx2/...  \n",
       "3  https://reddit.com/r/recipes/comments/1afs8r5/...  \n",
       "4  https://reddit.com/r/recipes/comments/1afoma3/...  "
      ]
     },
     "execution_count": 3,
     "metadata": {},
     "output_type": "execute_result"
    }
   ],
   "source": [
    "# Load the DataFrame from the file\n",
    "filtered_df_posts = pd.read_json('../data/cleaned_posts_with_cuisine_and_ingredient_list.json')\n",
    "filtered_df_posts.head()"
   ]
  },
  {
   "cell_type": "code",
   "execution_count": 4,
   "metadata": {},
   "outputs": [],
   "source": [
    "flair_names = ['Recipe', 'Dessert', 'Pasta', 'Poultry', 'Fruit\\\\Vegetarian', 'Drink', 'Beef', 'Pork', 'Seafood']"
   ]
  },
  {
   "cell_type": "markdown",
   "metadata": {},
   "source": [
    "## 2. 📊Plot data"
   ]
  },
  {
   "cell_type": "markdown",
   "metadata": {},
   "source": [
    "We first plot a histogram of the upvote ratio of all the posts."
   ]
  },
  {
   "cell_type": "code",
   "execution_count": 5,
   "metadata": {},
   "outputs": [
    {
     "name": "stderr",
     "output_type": "stream",
     "text": [
      "c:\\Users\\Zicheng Liu\\.conda\\envs\\ds105\\lib\\site-packages\\plotnine\\ggplot.py:587: PlotnineWarning: Saving 6.4 x 4.8 in image.\n",
      "c:\\Users\\Zicheng Liu\\.conda\\envs\\ds105\\lib\\site-packages\\plotnine\\ggplot.py:588: PlotnineWarning: Filename: ../plots/plot_all_upvote_ratio.jpg\n",
      "c:\\Users\\Zicheng Liu\\.conda\\envs\\ds105\\lib\\site-packages\\plotnine\\ggplot.py:587: PlotnineWarning: Saving 6.4 x 4.8 in image.\n",
      "c:\\Users\\Zicheng Liu\\.conda\\envs\\ds105\\lib\\site-packages\\plotnine\\ggplot.py:588: PlotnineWarning: Filename: ../docs/plot_all_upvote_ratio.jpg\n"
     ]
    }
   ],
   "source": [
    "plot = (\n",
    "    ggplot(\n",
    "    filtered_df_posts, aes(x='upvote_ratio')) + \n",
    "    geom_histogram(binwidth=0.01, fill='#5c3da4') + \n",
    "    themes.theme_matplotlib() + \n",
    "    ggtitle(\"Upvote ratio for all posts\") + \n",
    "    themes.theme(plot_title = element_text(weight='bold', color=\"black\")) +\n",
    "    themes.theme(aspect_ratio=9/16)\n",
    ")\n",
    "plot.save(f\"../plots/plot_all_upvote_ratio.jpg\", format=\"jpg\", dpi=600)\n",
    "\n",
    "# Save another copy to the ../docs directory\n",
    "plot.save(\"../docs/plot_all_upvote_ratio.jpg\", format=\"jpg\", dpi=600)"
   ]
  },
  {
   "cell_type": "markdown",
   "metadata": {},
   "source": [
    "We now separate the data by flair type to understand how well-received each type of recipe is."
   ]
  },
  {
   "cell_type": "code",
   "execution_count": 6,
   "metadata": {},
   "outputs": [
    {
     "name": "stderr",
     "output_type": "stream",
     "text": [
      "c:\\Users\\Zicheng Liu\\.conda\\envs\\ds105\\lib\\site-packages\\plotnine\\ggplot.py:587: PlotnineWarning: Saving 6.4 x 4.8 in image.\n",
      "c:\\Users\\Zicheng Liu\\.conda\\envs\\ds105\\lib\\site-packages\\plotnine\\ggplot.py:588: PlotnineWarning: Filename: ../plots/plot_Recipe_upvote_ratio.jpg\n",
      "c:\\Users\\Zicheng Liu\\.conda\\envs\\ds105\\lib\\site-packages\\plotnine\\ggplot.py:587: PlotnineWarning: Saving 6.4 x 4.8 in image.\n",
      "c:\\Users\\Zicheng Liu\\.conda\\envs\\ds105\\lib\\site-packages\\plotnine\\ggplot.py:588: PlotnineWarning: Filename: ../plots/plot_Dessert_upvote_ratio.jpg\n",
      "c:\\Users\\Zicheng Liu\\.conda\\envs\\ds105\\lib\\site-packages\\plotnine\\ggplot.py:587: PlotnineWarning: Saving 6.4 x 4.8 in image.\n",
      "c:\\Users\\Zicheng Liu\\.conda\\envs\\ds105\\lib\\site-packages\\plotnine\\ggplot.py:588: PlotnineWarning: Filename: ../plots/plot_Pasta_upvote_ratio.jpg\n",
      "c:\\Users\\Zicheng Liu\\.conda\\envs\\ds105\\lib\\site-packages\\plotnine\\ggplot.py:587: PlotnineWarning: Saving 6.4 x 4.8 in image.\n",
      "c:\\Users\\Zicheng Liu\\.conda\\envs\\ds105\\lib\\site-packages\\plotnine\\ggplot.py:588: PlotnineWarning: Filename: ../plots/plot_Poultry_upvote_ratio.jpg\n",
      "c:\\Users\\Zicheng Liu\\.conda\\envs\\ds105\\lib\\site-packages\\plotnine\\ggplot.py:587: PlotnineWarning: Saving 6.4 x 4.8 in image.\n",
      "c:\\Users\\Zicheng Liu\\.conda\\envs\\ds105\\lib\\site-packages\\plotnine\\ggplot.py:588: PlotnineWarning: Filename: ../plots/plot_FruitVegetarian_upvote_ratio.jpg\n",
      "c:\\Users\\Zicheng Liu\\.conda\\envs\\ds105\\lib\\site-packages\\plotnine\\ggplot.py:587: PlotnineWarning: Saving 6.4 x 4.8 in image.\n",
      "c:\\Users\\Zicheng Liu\\.conda\\envs\\ds105\\lib\\site-packages\\plotnine\\ggplot.py:588: PlotnineWarning: Filename: ../plots/plot_Drink_upvote_ratio.jpg\n",
      "c:\\Users\\Zicheng Liu\\.conda\\envs\\ds105\\lib\\site-packages\\plotnine\\ggplot.py:587: PlotnineWarning: Saving 6.4 x 4.8 in image.\n",
      "c:\\Users\\Zicheng Liu\\.conda\\envs\\ds105\\lib\\site-packages\\plotnine\\ggplot.py:588: PlotnineWarning: Filename: ../plots/plot_Beef_upvote_ratio.jpg\n",
      "c:\\Users\\Zicheng Liu\\.conda\\envs\\ds105\\lib\\site-packages\\plotnine\\ggplot.py:587: PlotnineWarning: Saving 6.4 x 4.8 in image.\n",
      "c:\\Users\\Zicheng Liu\\.conda\\envs\\ds105\\lib\\site-packages\\plotnine\\ggplot.py:588: PlotnineWarning: Filename: ../plots/plot_Pork_upvote_ratio.jpg\n",
      "c:\\Users\\Zicheng Liu\\.conda\\envs\\ds105\\lib\\site-packages\\plotnine\\ggplot.py:587: PlotnineWarning: Saving 6.4 x 4.8 in image.\n",
      "c:\\Users\\Zicheng Liu\\.conda\\envs\\ds105\\lib\\site-packages\\plotnine\\ggplot.py:588: PlotnineWarning: Filename: ../plots/plot_Seafood_upvote_ratio.jpg\n"
     ]
    }
   ],
   "source": [
    "for flair in flair_names:\n",
    "    plot = (\n",
    "        ggplot(filtered_df_posts[filtered_df_posts[\"link_flair_text\"] == flair], aes(x='upvote_ratio')) + \n",
    "        geom_histogram(binwidth=0.01, fill='#5c3da4') +\n",
    "        themes.theme_matplotlib() +\n",
    "        ggtitle(f\"Frequency of {flair} posts by upvote ratio\") +\n",
    "        themes.theme(plot_title = element_text(weight='bold', color=\"black\")) +\n",
    "        themes.theme(aspect_ratio=9/16)\n",
    "    )\n",
    "    plot.save(f\"../plots/plot_{flair}_upvote_ratio.jpg\".replace(\"\\\\\", \"\"), format=\"jpg\", dpi=600)"
   ]
  },
  {
   "cell_type": "markdown",
   "metadata": {},
   "source": [
    "Another way to investigate the reception of different recipe types is to count the number of each type of recipe found in the most popular recipes. We will use the top 10% of posts by upvote ratio."
   ]
  },
  {
   "cell_type": "code",
   "execution_count": 7,
   "metadata": {},
   "outputs": [
    {
     "name": "stderr",
     "output_type": "stream",
     "text": [
      "c:\\Users\\Zicheng Liu\\.conda\\envs\\ds105\\lib\\site-packages\\plotnine\\ggplot.py:587: PlotnineWarning: Saving 6.4 x 4.8 in image.\n",
      "c:\\Users\\Zicheng Liu\\.conda\\envs\\ds105\\lib\\site-packages\\plotnine\\ggplot.py:588: PlotnineWarning: Filename: ../plots/plot_top_10_percent_upvote_ratio.jpg\n",
      "c:\\Users\\Zicheng Liu\\.conda\\envs\\ds105\\lib\\site-packages\\mizani\\scale.py:210: FutureWarning: is_categorical_dtype is deprecated and will be removed in a future version. Use isinstance(dtype, CategoricalDtype) instead\n",
      "c:\\Users\\Zicheng Liu\\.conda\\envs\\ds105\\lib\\site-packages\\mizani\\scale.py:223: FutureWarning: is_categorical_dtype is deprecated and will be removed in a future version. Use isinstance(dtype, CategoricalDtype) instead\n",
      "c:\\Users\\Zicheng Liu\\.conda\\envs\\ds105\\lib\\site-packages\\plotnine\\ggplot.py:587: PlotnineWarning: Saving 6.4 x 4.8 in image.\n",
      "c:\\Users\\Zicheng Liu\\.conda\\envs\\ds105\\lib\\site-packages\\plotnine\\ggplot.py:588: PlotnineWarning: Filename: ../docs/plot_top_10_percent_upvote_ratio.jpg\n",
      "c:\\Users\\Zicheng Liu\\.conda\\envs\\ds105\\lib\\site-packages\\mizani\\scale.py:210: FutureWarning: is_categorical_dtype is deprecated and will be removed in a future version. Use isinstance(dtype, CategoricalDtype) instead\n",
      "c:\\Users\\Zicheng Liu\\.conda\\envs\\ds105\\lib\\site-packages\\mizani\\scale.py:223: FutureWarning: is_categorical_dtype is deprecated and will be removed in a future version. Use isinstance(dtype, CategoricalDtype) instead\n"
     ]
    }
   ],
   "source": [
    "# Sort by upvote ratio in descending order\n",
    "df_sorted_by_upvote_ratio = filtered_df_posts.sort_values(by='upvote_ratio', ascending=False)\n",
    "\n",
    "# Calculate the number of rows for the top 10%\n",
    "top_10_percent_by_upvote_ratio = int(0.1 * len(df_sorted_by_upvote_ratio))\n",
    "\n",
    "# Take the top 10% of the DataFrame\n",
    "top_10_df = df_sorted_by_upvote_ratio.head(top_10_percent_by_upvote_ratio)\n",
    "\n",
    "ordered_flair_list = top_10_df['link_flair_text'].value_counts().index.tolist()\n",
    "# Plot a bar graph showing the number of posts from different flairs\n",
    "plot = (ggplot(top_10_df, aes(x=\"link_flair_text\")) +\n",
    "       geom_bar(fill='#5c3da4') +\n",
    "       coord_flip() +\n",
    "       ggtitle(\"Top 10% of posts by upvote ratio\") +\n",
    "       scale_x_discrete(limits=ordered_flair_list[::-1]) +\n",
    "       themes.theme(plot_title = element_text(weight='bold', color=\"black\")) +\n",
    "       themes.theme(aspect_ratio=9/16) +\n",
    "       labs(x=\"Flair\", y=\"Number of posts\")\n",
    ")\n",
    "\n",
    "plot.save(f\"../plots/plot_top_10_percent_upvote_ratio.jpg\", format=\"jpg\", dpi=600)\n",
    "\n",
    "# Save another copy to the ../docs directory\n",
    "plot.save(\"../docs/plot_top_10_percent_upvote_ratio.jpg\", format=\"jpg\", dpi=600)"
   ]
  },
  {
   "cell_type": "markdown",
   "metadata": {},
   "source": [
    "What about for absolute popularity? We repeat the same analysis but use the number of upvotes instead of the upvote ratio."
   ]
  },
  {
   "cell_type": "code",
   "execution_count": 8,
   "metadata": {},
   "outputs": [
    {
     "name": "stderr",
     "output_type": "stream",
     "text": [
      "c:\\Users\\Zicheng Liu\\.conda\\envs\\ds105\\lib\\site-packages\\plotnine\\ggplot.py:587: PlotnineWarning: Saving 6.4 x 4.8 in image.\n",
      "c:\\Users\\Zicheng Liu\\.conda\\envs\\ds105\\lib\\site-packages\\plotnine\\ggplot.py:588: PlotnineWarning: Filename: ../plots/plot_top_10_percent_score.jpg\n",
      "c:\\Users\\Zicheng Liu\\.conda\\envs\\ds105\\lib\\site-packages\\mizani\\scale.py:210: FutureWarning: is_categorical_dtype is deprecated and will be removed in a future version. Use isinstance(dtype, CategoricalDtype) instead\n",
      "c:\\Users\\Zicheng Liu\\.conda\\envs\\ds105\\lib\\site-packages\\mizani\\scale.py:223: FutureWarning: is_categorical_dtype is deprecated and will be removed in a future version. Use isinstance(dtype, CategoricalDtype) instead\n"
     ]
    }
   ],
   "source": [
    "df_sorted_by_score = filtered_df_posts.sort_values(by='score', ascending=False)\n",
    "\n",
    "# Calculate the number of rows for the top 10%\n",
    "top_10_percent_by_score = int(0.1 * len(df_sorted_by_score))\n",
    "\n",
    "# Take the top 10% of the DataFrame\n",
    "top_10_df = df_sorted_by_score.head(top_10_percent_by_score)\n",
    "\n",
    "ordered_flair_list = top_10_df['link_flair_text'].value_counts().index.tolist()\n",
    "# Plot a bar graph showing the number of posts from different flairs\n",
    "plot = (ggplot(top_10_df, aes(x=\"link_flair_text\")) +\n",
    "       geom_bar(fill='#5c3da4') +\n",
    "       coord_flip() +\n",
    "       ggtitle(\"Top 10% of posts by absolute score\") +\n",
    "       scale_x_discrete(limits=ordered_flair_list[::-1]) +\n",
    "       themes.theme(plot_title = element_text(weight='bold', color=\"black\")) +\n",
    "       themes.theme(aspect_ratio=9/16) +\n",
    "       labs(x=\"Flair\", y=\"Number of posts\")\n",
    ")\n",
    "\n",
    "plot.save(f\"../plots/plot_top_10_percent_score.jpg\", format=\"jpg\", dpi=600)"
   ]
  },
  {
   "cell_type": "markdown",
   "metadata": {},
   "source": [
    "Further elaboration on the plots can be found on the website."
   ]
  }
 ],
 "metadata": {
  "kernelspec": {
   "display_name": "base",
   "language": "python",
   "name": "python3"
  },
  "language_info": {
   "codemirror_mode": {
    "name": "ipython",
    "version": 3
   },
   "file_extension": ".py",
   "mimetype": "text/x-python",
   "name": "python",
   "nbconvert_exporter": "python",
   "pygments_lexer": "ipython3",
   "version": "3.9.18"
  }
 },
 "nbformat": 4,
 "nbformat_minor": 2
}
