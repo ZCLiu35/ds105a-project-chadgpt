{
 "cells": [
  {
   "cell_type": "markdown",
   "metadata": {},
   "source": [
    "# ✅Step 3: Data Cleaning"
   ]
  },
  {
   "cell_type": "markdown",
   "metadata": {},
   "source": [
    "This notebook will clean up the posts.json file by:\n",
    "1. Removing posts with non-English titles\n",
    "2. Removing irrelevant columns\n",
    "3. Converting relevant values to the correct data types\n",
    "\n",
    "We will then use GPT-3.5 to extract a list of food ingredients from the recipe comment."
   ]
  },
  {
   "cell_type": "markdown",
   "metadata": {},
   "source": [
    "## 0. 🎯Setup"
   ]
  },
  {
   "cell_type": "code",
   "execution_count": 7,
   "metadata": {},
   "outputs": [],
   "source": [
    "import sys\n",
    "\n",
    "import pandas as pd\n",
    "import tabulate\n",
    "from datetime import datetime\n",
    "\n",
    "from tqdm import tqdm\n",
    "tqdm.pandas()\n",
    "\n",
    "# Import our own modules\n",
    "sys.path.append(\"../scripts/\")\n",
    "import chadtools"
   ]
  },
  {
   "cell_type": "markdown",
   "metadata": {},
   "source": [
    "### 0.1. Load json file "
   ]
  },
  {
   "cell_type": "markdown",
   "metadata": {},
   "source": [
    "Load dataframe from json file generated from [02 Scraping OP Comments](./02%20Scraping%20OP%20comment.ipynb)\n"
   ]
  },
  {
   "cell_type": "code",
   "execution_count": 36,
   "metadata": {},
   "outputs": [
    {
     "data": {
      "text/plain": [
       "(2066, 119)"
      ]
     },
     "execution_count": 36,
     "metadata": {},
     "output_type": "execute_result"
    }
   ],
   "source": [
    "df = pd.read_json('../data/posts_with_comments.json', orient='records')\n",
    "df.shape"
   ]
  },
  {
   "cell_type": "markdown",
   "metadata": {},
   "source": [
    "## 1. 🧹Simple Data Cleanup"
   ]
  },
  {
   "cell_type": "markdown",
   "metadata": {},
   "source": [
    "Some posts are not formatted properly or have been deleted. We will remove them from our dataframe by checking for newlines, which are present in all properly formatted recipes."
   ]
  },
  {
   "cell_type": "code",
   "execution_count": 37,
   "metadata": {},
   "outputs": [
    {
     "data": {
      "text/plain": [
       "(1747, 119)"
      ]
     },
     "execution_count": 37,
     "metadata": {},
     "output_type": "execute_result"
    }
   ],
   "source": [
    "df = df[df['ingredient_comment'].str.contains(\"\\n\") == True]\n",
    "\n",
    "df.shape"
   ]
  },
  {
   "cell_type": "markdown",
   "metadata": {},
   "source": [
    "We clean up the dataframe by filtering for the columns that we want."
   ]
  },
  {
   "cell_type": "code",
   "execution_count": 38,
   "metadata": {},
   "outputs": [
    {
     "data": {
      "text/html": [
       "<div>\n",
       "<style scoped>\n",
       "    .dataframe tbody tr th:only-of-type {\n",
       "        vertical-align: middle;\n",
       "    }\n",
       "\n",
       "    .dataframe tbody tr th {\n",
       "        vertical-align: top;\n",
       "    }\n",
       "\n",
       "    .dataframe thead th {\n",
       "        text-align: right;\n",
       "    }\n",
       "</style>\n",
       "<table border=\"1\" class=\"dataframe\">\n",
       "  <thead>\n",
       "    <tr style=\"text-align: right;\">\n",
       "      <th></th>\n",
       "      <th>id</th>\n",
       "      <th>title</th>\n",
       "      <th>score</th>\n",
       "      <th>num_comments</th>\n",
       "      <th>ingredient_comment</th>\n",
       "      <th>created_utc</th>\n",
       "      <th>upvote_ratio</th>\n",
       "      <th>link_flair_text</th>\n",
       "      <th>author</th>\n",
       "      <th>url</th>\n",
       "      <th>comment_link</th>\n",
       "      <th>permalink</th>\n",
       "    </tr>\n",
       "  </thead>\n",
       "  <tbody>\n",
       "    <tr>\n",
       "      <th>0</th>\n",
       "      <td>1ah8m5s</td>\n",
       "      <td>Thai Green Curry Chicken Satay</td>\n",
       "      <td>41</td>\n",
       "      <td>1</td>\n",
       "      <td>You could use any curry paste you like. Do you...</td>\n",
       "      <td>1706893611</td>\n",
       "      <td>0.87</td>\n",
       "      <td>Recipe</td>\n",
       "      <td>butchec</td>\n",
       "      <td>https://i.redd.it/g5xtfz2ve7gc1.jpeg</td>\n",
       "      <td>https://oauth.reddit.com/r/recipes/comments/1a...</td>\n",
       "      <td>https://reddit.com/r/recipes/comments/1ah8m5s/...</td>\n",
       "    </tr>\n",
       "    <tr>\n",
       "      <th>1</th>\n",
       "      <td>1ag9jx2</td>\n",
       "      <td>Potato Pavé</td>\n",
       "      <td>252</td>\n",
       "      <td>7</td>\n",
       "      <td>A French side dish that goes well with anythin...</td>\n",
       "      <td>1706789454</td>\n",
       "      <td>0.97</td>\n",
       "      <td>Recipe</td>\n",
       "      <td>TimSumrall</td>\n",
       "      <td>https://i.redd.it/1fy6x4t3tyfc1.jpeg</td>\n",
       "      <td>https://oauth.reddit.com/r/recipes/comments/1a...</td>\n",
       "      <td>https://reddit.com/r/recipes/comments/1ag9jx2/...</td>\n",
       "    </tr>\n",
       "    <tr>\n",
       "      <th>2</th>\n",
       "      <td>1afs8r5</td>\n",
       "      <td>Pretzels 🥨</td>\n",
       "      <td>116</td>\n",
       "      <td>9</td>\n",
       "      <td>Yield: 8 medium pretzels\\n\\nSee how I made the...</td>\n",
       "      <td>1706734068</td>\n",
       "      <td>0.94</td>\n",
       "      <td>Recipe</td>\n",
       "      <td>shushyum</td>\n",
       "      <td>https://i.redd.it/v8e6vvxh8ufc1.jpeg</td>\n",
       "      <td>https://oauth.reddit.com/r/recipes/comments/1a...</td>\n",
       "      <td>https://reddit.com/r/recipes/comments/1afs8r5/...</td>\n",
       "    </tr>\n",
       "    <tr>\n",
       "      <th>3</th>\n",
       "      <td>1afoma3</td>\n",
       "      <td>Sweet and Sour Tofu</td>\n",
       "      <td>54</td>\n",
       "      <td>4</td>\n",
       "      <td>I love figuring out ways to make tofu deliciou...</td>\n",
       "      <td>1706725321</td>\n",
       "      <td>0.89</td>\n",
       "      <td>Recipe</td>\n",
       "      <td>parisrosaries</td>\n",
       "      <td>https://i.redd.it/9nhm0k2mitfc1.jpeg</td>\n",
       "      <td>https://oauth.reddit.com/r/recipes/comments/1a...</td>\n",
       "      <td>https://reddit.com/r/recipes/comments/1afoma3/...</td>\n",
       "    </tr>\n",
       "    <tr>\n",
       "      <th>4</th>\n",
       "      <td>1aez4r2</td>\n",
       "      <td>Pork Tenderloin Sous Vide</td>\n",
       "      <td>28</td>\n",
       "      <td>4</td>\n",
       "      <td>**Ingredients:**\\n\\n**Tenderloin**\\n\\n* 1 Pork...</td>\n",
       "      <td>1706648218</td>\n",
       "      <td>0.69</td>\n",
       "      <td>Recipe</td>\n",
       "      <td>hoosyourdaddyo</td>\n",
       "      <td>https://i.redd.it/tq0z0nkd5nfc1.jpeg</td>\n",
       "      <td>https://oauth.reddit.com/r/recipes/comments/1a...</td>\n",
       "      <td>https://reddit.com/r/recipes/comments/1aez4r2/...</td>\n",
       "    </tr>\n",
       "  </tbody>\n",
       "</table>\n",
       "</div>"
      ],
      "text/plain": [
       "        id                           title  score  num_comments  \\\n",
       "0  1ah8m5s  Thai Green Curry Chicken Satay     41             1   \n",
       "1  1ag9jx2                     Potato Pavé    252             7   \n",
       "2  1afs8r5                      Pretzels 🥨    116             9   \n",
       "3  1afoma3             Sweet and Sour Tofu     54             4   \n",
       "4  1aez4r2       Pork Tenderloin Sous Vide     28             4   \n",
       "\n",
       "                                  ingredient_comment  created_utc  \\\n",
       "0  You could use any curry paste you like. Do you...   1706893611   \n",
       "1  A French side dish that goes well with anythin...   1706789454   \n",
       "2  Yield: 8 medium pretzels\\n\\nSee how I made the...   1706734068   \n",
       "3  I love figuring out ways to make tofu deliciou...   1706725321   \n",
       "4  **Ingredients:**\\n\\n**Tenderloin**\\n\\n* 1 Pork...   1706648218   \n",
       "\n",
       "   upvote_ratio link_flair_text          author  \\\n",
       "0          0.87          Recipe         butchec   \n",
       "1          0.97          Recipe      TimSumrall   \n",
       "2          0.94          Recipe        shushyum   \n",
       "3          0.89          Recipe   parisrosaries   \n",
       "4          0.69          Recipe  hoosyourdaddyo   \n",
       "\n",
       "                                    url  \\\n",
       "0  https://i.redd.it/g5xtfz2ve7gc1.jpeg   \n",
       "1  https://i.redd.it/1fy6x4t3tyfc1.jpeg   \n",
       "2  https://i.redd.it/v8e6vvxh8ufc1.jpeg   \n",
       "3  https://i.redd.it/9nhm0k2mitfc1.jpeg   \n",
       "4  https://i.redd.it/tq0z0nkd5nfc1.jpeg   \n",
       "\n",
       "                                        comment_link  \\\n",
       "0  https://oauth.reddit.com/r/recipes/comments/1a...   \n",
       "1  https://oauth.reddit.com/r/recipes/comments/1a...   \n",
       "2  https://oauth.reddit.com/r/recipes/comments/1a...   \n",
       "3  https://oauth.reddit.com/r/recipes/comments/1a...   \n",
       "4  https://oauth.reddit.com/r/recipes/comments/1a...   \n",
       "\n",
       "                                           permalink  \n",
       "0  https://reddit.com/r/recipes/comments/1ah8m5s/...  \n",
       "1  https://reddit.com/r/recipes/comments/1ag9jx2/...  \n",
       "2  https://reddit.com/r/recipes/comments/1afs8r5/...  \n",
       "3  https://reddit.com/r/recipes/comments/1afoma3/...  \n",
       "4  https://reddit.com/r/recipes/comments/1aez4r2/...  "
      ]
     },
     "execution_count": 38,
     "metadata": {},
     "output_type": "execute_result"
    }
   ],
   "source": [
    "desired_columns = ['id',\n",
    "                   'title',\n",
    "                   'score',\n",
    "                   'num_comments',\n",
    "                   'ingredient_comment',\n",
    "                   'created_utc', \n",
    "                   'upvote_ratio',\n",
    "                   'link_flair_text',\n",
    "                   'author',\n",
    "                   'url',\n",
    "                   'comment_link',\n",
    "                   'permalink']\n",
    "\n",
    "df_filtered = df.loc[:, desired_columns]\n",
    "df_filtered.head()"
   ]
  },
  {
   "cell_type": "code",
   "execution_count": 39,
   "metadata": {},
   "outputs": [
    {
     "data": {
      "text/plain": [
       "(1747, 12)"
      ]
     },
     "execution_count": 39,
     "metadata": {},
     "output_type": "execute_result"
    }
   ],
   "source": [
    "df_filtered.shape"
   ]
  },
  {
   "cell_type": "markdown",
   "metadata": {},
   "source": [
    "We filter out posts with empty rows."
   ]
  },
  {
   "cell_type": "code",
   "execution_count": 40,
   "metadata": {},
   "outputs": [
    {
     "data": {
      "text/plain": [
       "(1747, 12)"
      ]
     },
     "execution_count": 40,
     "metadata": {},
     "output_type": "execute_result"
    }
   ],
   "source": [
    "important_cols = ['id', 'title', 'ingredient_comment', 'permalink']\n",
    "df_filtered.dropna(axis=0, subset=important_cols, inplace=True)\n",
    "df_filtered.shape"
   ]
  },
  {
   "cell_type": "markdown",
   "metadata": {},
   "source": [
    "### 1.1 Filter out posts with non-english titles"
   ]
  },
  {
   "cell_type": "code",
   "execution_count": 41,
   "metadata": {},
   "outputs": [
    {
     "name": "stderr",
     "output_type": "stream",
     "text": [
      "100%|██████████| 1747/1747 [00:03<00:00, 509.91it/s]\n"
     ]
    },
    {
     "data": {
      "text/plain": [
       "(1633, 12)"
      ]
     },
     "execution_count": 41,
     "metadata": {},
     "output_type": "execute_result"
    }
   ],
   "source": [
    "# filter the english posts by applying custom function\n",
    "df_filtered = df_filtered[df_filtered['title'].progress_apply(chadtools.is_english, threshold_rank=5)]\n",
    "\n",
    "df_filtered.shape"
   ]
  },
  {
   "cell_type": "markdown",
   "metadata": {},
   "source": [
    "### 1.2 Convert data to more appropriate types "
   ]
  },
  {
   "cell_type": "code",
   "execution_count": 42,
   "metadata": {},
   "outputs": [
    {
     "name": "stdout",
     "output_type": "stream",
     "text": [
      "<class 'pandas.core.frame.DataFrame'>\n",
      "Index: 1633 entries, 0 to 2065\n",
      "Data columns (total 12 columns):\n",
      " #   Column              Non-Null Count  Dtype  \n",
      "---  ------              --------------  -----  \n",
      " 0   id                  1633 non-null   object \n",
      " 1   title               1633 non-null   object \n",
      " 2   score               1633 non-null   int64  \n",
      " 3   num_comments        1633 non-null   int64  \n",
      " 4   ingredient_comment  1633 non-null   object \n",
      " 5   created_utc         1633 non-null   int64  \n",
      " 6   upvote_ratio        1633 non-null   float64\n",
      " 7   link_flair_text     1633 non-null   object \n",
      " 8   author              1633 non-null   object \n",
      " 9   url                 1633 non-null   object \n",
      " 10  comment_link        1633 non-null   object \n",
      " 11  permalink           1633 non-null   object \n",
      "dtypes: float64(1), int64(3), object(8)\n",
      "memory usage: 165.9+ KB\n"
     ]
    }
   ],
   "source": [
    "df_filtered.info()"
   ]
  },
  {
   "cell_type": "markdown",
   "metadata": {},
   "source": [
    "We will convert the following columns to the following types:\n",
    "- `title` to string\n",
    "- `score` to int32\n",
    "- `num_comments` to int16\n",
    "- `created_utc` to datetime\n",
    "- `upvote_ratio` to float16"
   ]
  },
  {
   "cell_type": "markdown",
   "metadata": {},
   "source": [
    "#### 1.2.1 Convert created_utc to a datetime object"
   ]
  },
  {
   "cell_type": "code",
   "execution_count": 43,
   "metadata": {},
   "outputs": [],
   "source": [
    "df_filtered['created_utc'] = df_filtered['created_utc'].apply(lambda x: datetime.fromtimestamp(x))"
   ]
  },
  {
   "cell_type": "markdown",
   "metadata": {},
   "source": [
    "Starting from 31 Aug 2020, r/recipes imposed strict rules on the format of new posts, which made the format substantially more consistent. Hence, we will only keep posts from 31 Aug 2020 onwards for ease of data collection."
   ]
  },
  {
   "cell_type": "code",
   "execution_count": 44,
   "metadata": {},
   "outputs": [
    {
     "data": {
      "text/html": [
       "<div>\n",
       "<style scoped>\n",
       "    .dataframe tbody tr th:only-of-type {\n",
       "        vertical-align: middle;\n",
       "    }\n",
       "\n",
       "    .dataframe tbody tr th {\n",
       "        vertical-align: top;\n",
       "    }\n",
       "\n",
       "    .dataframe thead th {\n",
       "        text-align: right;\n",
       "    }\n",
       "</style>\n",
       "<table border=\"1\" class=\"dataframe\">\n",
       "  <thead>\n",
       "    <tr style=\"text-align: right;\">\n",
       "      <th></th>\n",
       "      <th>id</th>\n",
       "      <th>title</th>\n",
       "      <th>score</th>\n",
       "      <th>num_comments</th>\n",
       "      <th>ingredient_comment</th>\n",
       "      <th>created_utc</th>\n",
       "      <th>upvote_ratio</th>\n",
       "      <th>link_flair_text</th>\n",
       "      <th>author</th>\n",
       "      <th>url</th>\n",
       "      <th>comment_link</th>\n",
       "      <th>permalink</th>\n",
       "    </tr>\n",
       "  </thead>\n",
       "  <tbody>\n",
       "    <tr>\n",
       "      <th>1985</th>\n",
       "      <td>jhi1cz</td>\n",
       "      <td>Vegetarian Pumpkin Meatballs with a Heart of C...</td>\n",
       "      <td>54</td>\n",
       "      <td>6</td>\n",
       "      <td>\\n\\nHere another recipe with pumpkin!! A deli...</td>\n",
       "      <td>2020-10-24 23:22:15</td>\n",
       "      <td>0.89</td>\n",
       "      <td>Fruit\\Vegetarian</td>\n",
       "      <td>italian_cook</td>\n",
       "      <td>https://www.reddit.com/gallery/jhi1cz</td>\n",
       "      <td>https://oauth.reddit.com/r/recipes/comments/jh...</td>\n",
       "      <td>https://reddit.com/r/recipes/comments/jhi1cz/v...</td>\n",
       "    </tr>\n",
       "    <tr>\n",
       "      <th>1986</th>\n",
       "      <td>jcgb7j</td>\n",
       "      <td>Bitter gourd yogurt curry....with no bitternes...</td>\n",
       "      <td>6</td>\n",
       "      <td>6</td>\n",
       "      <td>Recipe.....\\n\\n[Short Video](https://youtu.be/...</td>\n",
       "      <td>2020-10-16 20:18:12</td>\n",
       "      <td>0.62</td>\n",
       "      <td>Fruit\\Vegetarian</td>\n",
       "      <td>PassionateHobbies</td>\n",
       "      <td>https://i.redd.it/bpootodgbit51.jpg</td>\n",
       "      <td>https://oauth.reddit.com/r/recipes/comments/jc...</td>\n",
       "      <td>https://reddit.com/r/recipes/comments/jcgb7j/b...</td>\n",
       "    </tr>\n",
       "    <tr>\n",
       "      <th>1988</th>\n",
       "      <td>iz12pg</td>\n",
       "      <td>Ottolenghi's Baked Orzo w/Mozzarella</td>\n",
       "      <td>22</td>\n",
       "      <td>5</td>\n",
       "      <td>Ingredients:\\n\\n* 7 Tablespoons olive oil\\n* ...</td>\n",
       "      <td>2020-09-24 17:59:05</td>\n",
       "      <td>0.83</td>\n",
       "      <td>Fruit\\Vegetarian</td>\n",
       "      <td>BrinaElka</td>\n",
       "      <td>https://i.redd.it/l7osuhkcm4p51.jpg</td>\n",
       "      <td>https://oauth.reddit.com/r/recipes/comments/iz...</td>\n",
       "      <td>https://reddit.com/r/recipes/comments/iz12pg/o...</td>\n",
       "    </tr>\n",
       "    <tr>\n",
       "      <th>1989</th>\n",
       "      <td>iw3wli</td>\n",
       "      <td>Mushroom Barley Stew with Crispy Oyster Mushrooms</td>\n",
       "      <td>2693</td>\n",
       "      <td>41</td>\n",
       "      <td>**Recipe here originally:** [**Easy Mushroom B...</td>\n",
       "      <td>2020-09-20 01:27:07</td>\n",
       "      <td>0.98</td>\n",
       "      <td>Fruit\\Vegetarian</td>\n",
       "      <td>BushyEyes</td>\n",
       "      <td>https://i.redd.it/511qxuct57o51.jpg</td>\n",
       "      <td>https://oauth.reddit.com/r/recipes/comments/iw...</td>\n",
       "      <td>https://reddit.com/r/recipes/comments/iw3wli/m...</td>\n",
       "    </tr>\n",
       "    <tr>\n",
       "      <th>1990</th>\n",
       "      <td>isunwt</td>\n",
       "      <td>Easy Tomato Risotto with Parmesan</td>\n",
       "      <td>1796</td>\n",
       "      <td>35</td>\n",
       "      <td>**Recipe here originally:** [**Easy Tomato Ris...</td>\n",
       "      <td>2020-09-14 22:32:27</td>\n",
       "      <td>0.99</td>\n",
       "      <td>Fruit\\Vegetarian</td>\n",
       "      <td>BushyEyes</td>\n",
       "      <td>https://i.redd.it/0qb76yy3m6n51.jpg</td>\n",
       "      <td>https://oauth.reddit.com/r/recipes/comments/is...</td>\n",
       "      <td>https://reddit.com/r/recipes/comments/isunwt/e...</td>\n",
       "    </tr>\n",
       "  </tbody>\n",
       "</table>\n",
       "</div>"
      ],
      "text/plain": [
       "          id                                              title  score  \\\n",
       "1985  jhi1cz  Vegetarian Pumpkin Meatballs with a Heart of C...     54   \n",
       "1986  jcgb7j  Bitter gourd yogurt curry....with no bitternes...      6   \n",
       "1988  iz12pg               Ottolenghi's Baked Orzo w/Mozzarella     22   \n",
       "1989  iw3wli  Mushroom Barley Stew with Crispy Oyster Mushrooms   2693   \n",
       "1990  isunwt                  Easy Tomato Risotto with Parmesan   1796   \n",
       "\n",
       "      num_comments                                 ingredient_comment  \\\n",
       "1985             6   \\n\\nHere another recipe with pumpkin!! A deli...   \n",
       "1986             6  Recipe.....\\n\\n[Short Video](https://youtu.be/...   \n",
       "1988             5   Ingredients:\\n\\n* 7 Tablespoons olive oil\\n* ...   \n",
       "1989            41  **Recipe here originally:** [**Easy Mushroom B...   \n",
       "1990            35  **Recipe here originally:** [**Easy Tomato Ris...   \n",
       "\n",
       "             created_utc  upvote_ratio   link_flair_text             author  \\\n",
       "1985 2020-10-24 23:22:15          0.89  Fruit\\Vegetarian       italian_cook   \n",
       "1986 2020-10-16 20:18:12          0.62  Fruit\\Vegetarian  PassionateHobbies   \n",
       "1988 2020-09-24 17:59:05          0.83  Fruit\\Vegetarian          BrinaElka   \n",
       "1989 2020-09-20 01:27:07          0.98  Fruit\\Vegetarian          BushyEyes   \n",
       "1990 2020-09-14 22:32:27          0.99  Fruit\\Vegetarian          BushyEyes   \n",
       "\n",
       "                                        url  \\\n",
       "1985  https://www.reddit.com/gallery/jhi1cz   \n",
       "1986    https://i.redd.it/bpootodgbit51.jpg   \n",
       "1988    https://i.redd.it/l7osuhkcm4p51.jpg   \n",
       "1989    https://i.redd.it/511qxuct57o51.jpg   \n",
       "1990    https://i.redd.it/0qb76yy3m6n51.jpg   \n",
       "\n",
       "                                           comment_link  \\\n",
       "1985  https://oauth.reddit.com/r/recipes/comments/jh...   \n",
       "1986  https://oauth.reddit.com/r/recipes/comments/jc...   \n",
       "1988  https://oauth.reddit.com/r/recipes/comments/iz...   \n",
       "1989  https://oauth.reddit.com/r/recipes/comments/iw...   \n",
       "1990  https://oauth.reddit.com/r/recipes/comments/is...   \n",
       "\n",
       "                                              permalink  \n",
       "1985  https://reddit.com/r/recipes/comments/jhi1cz/v...  \n",
       "1986  https://reddit.com/r/recipes/comments/jcgb7j/b...  \n",
       "1988  https://reddit.com/r/recipes/comments/iz12pg/o...  \n",
       "1989  https://reddit.com/r/recipes/comments/iw3wli/m...  \n",
       "1990  https://reddit.com/r/recipes/comments/isunwt/e...  "
      ]
     },
     "execution_count": 44,
     "metadata": {},
     "output_type": "execute_result"
    }
   ],
   "source": [
    "cutoff_datetime = pd.to_datetime(\"2020-08-31 00:00:00\")\n",
    "\n",
    "# Filter out rows where 'created_utc' is before the cutoff datetime\n",
    "df_filtered = df_filtered[df_filtered['created_utc'] >= cutoff_datetime]\n",
    "\n",
    "df_filtered.tail()"
   ]
  },
  {
   "cell_type": "markdown",
   "metadata": {},
   "source": [
    "#### 1.2.2 Convert the more primitive types to more size-efficient types."
   ]
  },
  {
   "cell_type": "code",
   "execution_count": 45,
   "metadata": {},
   "outputs": [],
   "source": [
    "df_filtered['score'] = df_filtered['score'].astype('int16')\n",
    "df_filtered['num_comments'] = df_filtered['num_comments'].astype('int16')   \n",
    "df_filtered['upvote_ratio'] = df_filtered['upvote_ratio'].astype('float16')"
   ]
  },
  {
   "cell_type": "code",
   "execution_count": 46,
   "metadata": {},
   "outputs": [
    {
     "name": "stdout",
     "output_type": "stream",
     "text": [
      "<class 'pandas.core.frame.DataFrame'>\n",
      "Index: 998 entries, 0 to 1990\n",
      "Data columns (total 12 columns):\n",
      " #   Column              Non-Null Count  Dtype         \n",
      "---  ------              --------------  -----         \n",
      " 0   id                  998 non-null    object        \n",
      " 1   title               998 non-null    object        \n",
      " 2   score               998 non-null    int16         \n",
      " 3   num_comments        998 non-null    int16         \n",
      " 4   ingredient_comment  998 non-null    object        \n",
      " 5   created_utc         998 non-null    datetime64[ns]\n",
      " 6   upvote_ratio        998 non-null    float16       \n",
      " 7   link_flair_text     998 non-null    object        \n",
      " 8   author              998 non-null    object        \n",
      " 9   url                 998 non-null    object        \n",
      " 10  comment_link        998 non-null    object        \n",
      " 11  permalink           998 non-null    object        \n",
      "dtypes: datetime64[ns](1), float16(1), int16(2), object(8)\n",
      "memory usage: 83.8+ KB\n"
     ]
    }
   ],
   "source": [
    "df_filtered.info()"
   ]
  },
  {
   "cell_type": "markdown",
   "metadata": {},
   "source": [
    "As seen, the size of the dataframe has been reduced by **50%**."
   ]
  },
  {
   "cell_type": "markdown",
   "metadata": {},
   "source": [
    "## 2. 🎯Extract Ingredients"
   ]
  },
  {
   "cell_type": "markdown",
   "metadata": {},
   "source": [
    "We will use `regex` to extract the ingredients portion of the comment, and disregard the cooking instructions for simplicity. We will then use GPT-3.5 to identify the ingredients."
   ]
  },
  {
   "cell_type": "markdown",
   "metadata": {},
   "source": [
    "### Filter out ingredients portion of the comments"
   ]
  },
  {
   "cell_type": "code",
   "execution_count": 47,
   "metadata": {},
   "outputs": [
    {
     "name": "stderr",
     "output_type": "stream",
     "text": [
      "100%|██████████| 998/998 [00:00<00:00, 24341.95it/s]\n"
     ]
    }
   ],
   "source": [
    "df_filtered['ingredient_comment_truncated'] = df_filtered['ingredient_comment'].progress_apply(chadtools.extract_ingredients_text)"
   ]
  },
  {
   "cell_type": "markdown",
   "metadata": {},
   "source": [
    "### Set up GPT Client"
   ]
  },
  {
   "cell_type": "code",
   "execution_count": 48,
   "metadata": {},
   "outputs": [],
   "source": [
    "my_client = chadtools.setup_gpt_client()"
   ]
  },
  {
   "cell_type": "code",
   "execution_count": 49,
   "metadata": {},
   "outputs": [
    {
     "data": {
      "text/plain": [
       "0    You could use any curry paste you like. Do you...\n",
       "3    I love figuring out ways to make tofu deliciou...\n",
       "4    **Ingredients:**\\n\\n**Tenderloin**\\n\\n* 1 Pork...\n",
       "5    [Recipe Link](https://www.sarahfreia.com/blog/...\n",
       "7    See how I made them [here](https://youtu.be/W8...\n",
       "Name: ingredient_comment_truncated, dtype: object"
      ]
     },
     "execution_count": 49,
     "metadata": {},
     "output_type": "execute_result"
    }
   ],
   "source": [
    "df_filtered['ingredient_comment_truncated'].head()"
   ]
  },
  {
   "cell_type": "markdown",
   "metadata": {},
   "source": [
    "### Use GPT to identify ingredients"
   ]
  },
  {
   "cell_type": "markdown",
   "metadata": {},
   "source": [
    "WARNING: This step calls the OpenAI GPT API, which incurs costs. Ensure sufficient tokens are available before running this step."
   ]
  },
  {
   "cell_type": "code",
   "execution_count": 50,
   "metadata": {},
   "outputs": [
    {
     "name": "stderr",
     "output_type": "stream",
     "text": [
      "100%|██████████| 998/998 [31:13<00:00,  1.88s/it]\n"
     ]
    },
    {
     "data": {
      "text/plain": [
       "0    [chicken satay, homemade green curry paste, ve...\n",
       "3    [tofu, ground black pepper, salt, cornstarch, ...\n",
       "4    [tenderloin, salt, fresh ground pepper, smoked...\n",
       "5    [butter, brown sugar, white sugar, vanilla ext...\n",
       "7    [milk, eggs, water, salt, flour, oil, ground b...\n",
       "Name: gpt_ingredients, dtype: object"
      ]
     },
     "execution_count": 50,
     "metadata": {},
     "output_type": "execute_result"
    }
   ],
   "source": [
    "df_filtered['gpt_ingredients'] = df_filtered['ingredient_comment_truncated'].progress_apply(chadtools.get_ingredient_list, client=my_client)\n",
    "df_filtered['gpt_ingredients'].head()"
   ]
  },
  {
   "cell_type": "markdown",
   "metadata": {},
   "source": [
    "### Reorder, filter, save as JSON"
   ]
  },
  {
   "cell_type": "markdown",
   "metadata": {},
   "source": [
    "Finally, filter and reorder the columns, and save the dataframe as a JSON file for use in the next step."
   ]
  },
  {
   "cell_type": "code",
   "execution_count": 51,
   "metadata": {},
   "outputs": [],
   "source": [
    "ordered_cols = [\"id\", \"title\", \"gpt_ingredients\", \"ingredient_comment_truncated\", \"score\", \"upvote_ratio\", \"link_flair_text\", \"author\", \"created_utc\", \"url\", \"permalink\"]\n",
    "df_filtered = df_filtered.loc[:, ordered_cols]\n",
    "df_filtered.to_json('../data/cleaned_posts_with_ingredient_list.json', orient='records', indent=4)"
   ]
  }
 ],
 "metadata": {
  "kernelspec": {
   "display_name": "base",
   "language": "python",
   "name": "python3"
  },
  "language_info": {
   "codemirror_mode": {
    "name": "ipython",
    "version": 3
   },
   "file_extension": ".py",
   "mimetype": "text/x-python",
   "name": "python",
   "nbconvert_exporter": "python",
   "pygments_lexer": "ipython3",
   "version": "3.11.4"
  },
  "orig_nbformat": 4
 },
 "nbformat": 4,
 "nbformat_minor": 2
}
