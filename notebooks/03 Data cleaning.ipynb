{
 "cells": [
  {
   "cell_type": "code",
   "execution_count": 6,
   "metadata": {},
   "outputs": [],
   "source": [
    "import re"
   ]
  },
  {
   "cell_type": "code",
   "execution_count": 9,
   "metadata": {},
   "outputs": [],
   "source": [
    "test_comment = \"\"\"One of my favorite Ukrainian recipes is the lesser known green version of the famous borshch. This one replaces the beets with sorrel.\n",
    "\n",
    "It is also eaten in other ex-PLC countries like Poland, belarus, and Lithuania!\n",
    "\n",
    "## [Ukrainian Green Borshch](https://cookingtoentertain.com/green-borscht/)\n",
    "\n",
    "**INGREDIENTS**\n",
    "  \n",
    "• 500 grams Pork Ribs\n",
    "\n",
    "• 500 grams Young Potatoes cubed\n",
    "\n",
    "• 200 grams Sorrel fresh\n",
    "\n",
    "• 1 Onion\n",
    "\n",
    "• 1 Carrot\n",
    "\n",
    "• 5 Eggs 4 hardboiled\n",
    "\n",
    "• 1 tbsp Sour Cream or Smetana if you can find it\n",
    "\n",
    "\n",
    "**INSTRUCTIONS**\n",
    " \n",
    "1. In a pot add the pork ribs along with salt and pepper and the bay leaves. Add water up to 60% of the pot. Bring to a boil, then lower to a simmer and cover with a lid for one hour.\n",
    "Add in the potatoes and bring back up to a boil. Let cook for 10 minutes.\n",
    "\n",
    "2. While the potatoes are cooking, quickly fry some grated onion and carrot in a pan with a bit of oil. Add to the borshch and give everything a stir. Also chop up the hard boiled eggs and add that in.\n",
    "\n",
    "3. In a small bowl beat together an egg and the sour cream. Swirl the pot of boiling borshch and slowly pour in the egg mixture so it cooks immediately as it hits the soup.\n",
    "\n",
    "4. Turn off the heat and add in the chopped sorrel. Give everything a good stir and let sit for a few minutes before serving. Taste for salt and pepper and adjust as needed.\n",
    "\"\"\"\n",
    "\n",
    "# Extract the ingredients section\n",
    "ingredients_section = re.search(r'\\*\\*INGREDIENTS\\*\\*(.*?)\\*\\*', test_comment, re.DOTALL)\n",
    "if ingredients_section:\n",
    "    # Extract the bullet points from the ingredients section\n",
    "    ingredients_list = [ingredient.strip() for ingredient in re.split(r'\\n\\s*•\\s*', ingredients_section.group(1)) if ingredient.strip()]\n",
    "\n",
    "else:\n",
    "    print(\"Ingredients section not found.\")"
   ]
  },
  {
   "cell_type": "code",
   "execution_count": 8,
   "metadata": {},
   "outputs": [
    {
     "data": {
      "text/plain": [
       "['500 grams Pork Ribs',\n",
       " '500 grams Young Potatoes cubed',\n",
       " '200 grams Sorrel fresh',\n",
       " '1 Onion',\n",
       " '1 Carrot',\n",
       " '5 Eggs 4 hardboiled',\n",
       " '1 tbsp Sour Cream or Smetana if you can find it']"
      ]
     },
     "execution_count": 8,
     "metadata": {},
     "output_type": "execute_result"
    }
   ],
   "source": [
    "ingredients_list"
   ]
  },
  {
   "cell_type": "code",
   "execution_count": 10,
   "metadata": {},
   "outputs": [
    {
     "data": {
      "text/plain": [
       "['Pork Ribs',\n",
       " 'Young Potatoes cubed',\n",
       " 'Sorrel fresh',\n",
       " '1 Onion',\n",
       " '1 Carrot',\n",
       " '5 Eggs 4 hardboiled',\n",
       " 'Sour Cream or Smetana if you can find it']"
      ]
     },
     "execution_count": 10,
     "metadata": {},
     "output_type": "execute_result"
    }
   ],
   "source": [
    "separators = ['grams', 'tbsp']\n",
    "\n",
    "def extract_ingredient_names(ingredient): \n",
    "    for sep in separators:\n",
    "        if sep in ingredient:\n",
    "            return ingredient.split(sep)[1].strip()\n",
    "        \n",
    "    return ingredient\n",
    "\n",
    "ingredient_names = [extract_ingredient_names(ingredient) for ingredient in ingredients_list]\n",
    "\n",
    "ingredient_names"
   ]
  }
 ],
 "metadata": {
  "kernelspec": {
   "display_name": "base",
   "language": "python",
   "name": "python3"
  },
  "language_info": {
   "codemirror_mode": {
    "name": "ipython",
    "version": 3
   },
   "file_extension": ".py",
   "mimetype": "text/x-python",
   "name": "python",
   "nbconvert_exporter": "python",
   "pygments_lexer": "ipython3",
   "version": "3.11.4"
  },
  "orig_nbformat": 4
 },
 "nbformat": 4,
 "nbformat_minor": 2
}
