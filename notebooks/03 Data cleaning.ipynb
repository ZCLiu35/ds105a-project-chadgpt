{
 "cells": [
  {
   "cell_type": "markdown",
   "metadata": {},
   "source": [
    "# ✅Step 3: Data Cleaning"
   ]
  },
  {
   "cell_type": "markdown",
   "metadata": {},
   "source": [
    "This notebook will clean up the posts.json file by:\n",
    "1. Removing posts with non-English titles\n",
    "2. Removing irrelevant columns\n",
    "3. Converting relevant values to the correct data types"
   ]
  },
  {
   "cell_type": "markdown",
   "metadata": {},
   "source": [
    "## 0. 🎯Setup"
   ]
  },
  {
   "cell_type": "code",
   "execution_count": 37,
   "metadata": {},
   "outputs": [],
   "source": [
    "import sys\n",
    "\n",
    "import pandas as pd\n",
    "from datetime import datetime, timedelta\n",
    "\n",
    "from tqdm import tqdm\n",
    "tqdm.pandas()\n",
    "\n",
    "# Import our own modules\n",
    "sys.path.append(\"../scripts/\")\n",
    "import chadtools\n",
    "\n",
    "from tabulate import tabulate\n",
    "from pprint import pprint"
   ]
  },
  {
   "cell_type": "markdown",
   "metadata": {},
   "source": [
    "### 0.1. Load json file "
   ]
  },
  {
   "cell_type": "markdown",
   "metadata": {},
   "source": [
    "Load dataframe from json file generated from 02"
   ]
  },
  {
   "cell_type": "code",
   "execution_count": 21,
   "metadata": {},
   "outputs": [
    {
     "data": {
      "text/html": [
       "<div>\n",
       "<style scoped>\n",
       "    .dataframe tbody tr th:only-of-type {\n",
       "        vertical-align: middle;\n",
       "    }\n",
       "\n",
       "    .dataframe tbody tr th {\n",
       "        vertical-align: top;\n",
       "    }\n",
       "\n",
       "    .dataframe thead th {\n",
       "        text-align: right;\n",
       "    }\n",
       "</style>\n",
       "<table border=\"1\" class=\"dataframe\">\n",
       "  <thead>\n",
       "    <tr style=\"text-align: right;\">\n",
       "      <th></th>\n",
       "      <th>approved_at_utc</th>\n",
       "      <th>subreddit</th>\n",
       "      <th>selftext</th>\n",
       "      <th>author_fullname</th>\n",
       "      <th>saved</th>\n",
       "      <th>mod_reason_title</th>\n",
       "      <th>gilded</th>\n",
       "      <th>clicked</th>\n",
       "      <th>title</th>\n",
       "      <th>link_flair_richtext</th>\n",
       "      <th>...</th>\n",
       "      <th>num_crossposts</th>\n",
       "      <th>media</th>\n",
       "      <th>is_video</th>\n",
       "      <th>is_gallery</th>\n",
       "      <th>media_metadata</th>\n",
       "      <th>gallery_data</th>\n",
       "      <th>poll_data</th>\n",
       "      <th>crosspost_parent_list</th>\n",
       "      <th>crosspost_parent</th>\n",
       "      <th>author_cakeday</th>\n",
       "    </tr>\n",
       "  </thead>\n",
       "  <tbody>\n",
       "    <tr>\n",
       "      <th>0</th>\n",
       "      <td>NaN</td>\n",
       "      <td>recipes</td>\n",
       "      <td></td>\n",
       "      <td>t2_9mmv4</td>\n",
       "      <td>False</td>\n",
       "      <td>NaN</td>\n",
       "      <td>0</td>\n",
       "      <td>False</td>\n",
       "      <td>Buffalo Chicken Tenders</td>\n",
       "      <td>[{'e': 'text', 't': 'Recipe'}]</td>\n",
       "      <td>...</td>\n",
       "      <td>0</td>\n",
       "      <td>None</td>\n",
       "      <td>False</td>\n",
       "      <td>NaN</td>\n",
       "      <td>None</td>\n",
       "      <td>None</td>\n",
       "      <td>None</td>\n",
       "      <td>None</td>\n",
       "      <td>None</td>\n",
       "      <td>NaN</td>\n",
       "    </tr>\n",
       "    <tr>\n",
       "      <th>1</th>\n",
       "      <td>NaN</td>\n",
       "      <td>recipes</td>\n",
       "      <td></td>\n",
       "      <td>t2_s92gwguui</td>\n",
       "      <td>False</td>\n",
       "      <td>NaN</td>\n",
       "      <td>0</td>\n",
       "      <td>False</td>\n",
       "      <td>Prawn Katsu Baos</td>\n",
       "      <td>[{'e': 'text', 't': 'Recipe'}]</td>\n",
       "      <td>...</td>\n",
       "      <td>0</td>\n",
       "      <td>None</td>\n",
       "      <td>False</td>\n",
       "      <td>NaN</td>\n",
       "      <td>None</td>\n",
       "      <td>None</td>\n",
       "      <td>None</td>\n",
       "      <td>None</td>\n",
       "      <td>None</td>\n",
       "      <td>NaN</td>\n",
       "    </tr>\n",
       "    <tr>\n",
       "      <th>2</th>\n",
       "      <td>NaN</td>\n",
       "      <td>recipes</td>\n",
       "      <td></td>\n",
       "      <td>t2_2elyzmmv</td>\n",
       "      <td>False</td>\n",
       "      <td>NaN</td>\n",
       "      <td>0</td>\n",
       "      <td>False</td>\n",
       "      <td>Cinnamon Rolls</td>\n",
       "      <td>[{'e': 'text', 't': 'Recipe'}]</td>\n",
       "      <td>...</td>\n",
       "      <td>0</td>\n",
       "      <td>None</td>\n",
       "      <td>False</td>\n",
       "      <td>NaN</td>\n",
       "      <td>None</td>\n",
       "      <td>None</td>\n",
       "      <td>None</td>\n",
       "      <td>None</td>\n",
       "      <td>None</td>\n",
       "      <td>NaN</td>\n",
       "    </tr>\n",
       "    <tr>\n",
       "      <th>3</th>\n",
       "      <td>NaN</td>\n",
       "      <td>recipes</td>\n",
       "      <td>Cast Iron goodness with a pair of eggs sunny s...</td>\n",
       "      <td>t2_ub96nnb4</td>\n",
       "      <td>False</td>\n",
       "      <td>NaN</td>\n",
       "      <td>0</td>\n",
       "      <td>False</td>\n",
       "      <td>Bacon Jalapeño Sweet Potato Hash</td>\n",
       "      <td>[{'e': 'text', 't': 'Recipe'}]</td>\n",
       "      <td>...</td>\n",
       "      <td>0</td>\n",
       "      <td>None</td>\n",
       "      <td>False</td>\n",
       "      <td>NaN</td>\n",
       "      <td>None</td>\n",
       "      <td>None</td>\n",
       "      <td>None</td>\n",
       "      <td>None</td>\n",
       "      <td>None</td>\n",
       "      <td>NaN</td>\n",
       "    </tr>\n",
       "    <tr>\n",
       "      <th>4</th>\n",
       "      <td>NaN</td>\n",
       "      <td>recipes</td>\n",
       "      <td></td>\n",
       "      <td>t2_9mmv4</td>\n",
       "      <td>False</td>\n",
       "      <td>NaN</td>\n",
       "      <td>0</td>\n",
       "      <td>False</td>\n",
       "      <td>Mushroom-Taleggio Risotto</td>\n",
       "      <td>[{'e': 'text', 't': 'Recipe'}]</td>\n",
       "      <td>...</td>\n",
       "      <td>0</td>\n",
       "      <td>None</td>\n",
       "      <td>False</td>\n",
       "      <td>NaN</td>\n",
       "      <td>None</td>\n",
       "      <td>None</td>\n",
       "      <td>None</td>\n",
       "      <td>None</td>\n",
       "      <td>None</td>\n",
       "      <td>NaN</td>\n",
       "    </tr>\n",
       "  </tbody>\n",
       "</table>\n",
       "<p>5 rows × 119 columns</p>\n",
       "</div>"
      ],
      "text/plain": [
       "   approved_at_utc subreddit  \\\n",
       "0              NaN   recipes   \n",
       "1              NaN   recipes   \n",
       "2              NaN   recipes   \n",
       "3              NaN   recipes   \n",
       "4              NaN   recipes   \n",
       "\n",
       "                                            selftext author_fullname  saved  \\\n",
       "0                                                           t2_9mmv4  False   \n",
       "1                                                       t2_s92gwguui  False   \n",
       "2                                                        t2_2elyzmmv  False   \n",
       "3  Cast Iron goodness with a pair of eggs sunny s...     t2_ub96nnb4  False   \n",
       "4                                                           t2_9mmv4  False   \n",
       "\n",
       "   mod_reason_title  gilded  clicked                             title  \\\n",
       "0               NaN       0    False           Buffalo Chicken Tenders   \n",
       "1               NaN       0    False                  Prawn Katsu Baos   \n",
       "2               NaN       0    False                    Cinnamon Rolls   \n",
       "3               NaN       0    False  Bacon Jalapeño Sweet Potato Hash   \n",
       "4               NaN       0    False         Mushroom-Taleggio Risotto   \n",
       "\n",
       "              link_flair_richtext  ... num_crossposts  media  is_video  \\\n",
       "0  [{'e': 'text', 't': 'Recipe'}]  ...              0   None     False   \n",
       "1  [{'e': 'text', 't': 'Recipe'}]  ...              0   None     False   \n",
       "2  [{'e': 'text', 't': 'Recipe'}]  ...              0   None     False   \n",
       "3  [{'e': 'text', 't': 'Recipe'}]  ...              0   None     False   \n",
       "4  [{'e': 'text', 't': 'Recipe'}]  ...              0   None     False   \n",
       "\n",
       "  is_gallery  media_metadata  gallery_data  poll_data  crosspost_parent_list  \\\n",
       "0        NaN            None          None       None                   None   \n",
       "1        NaN            None          None       None                   None   \n",
       "2        NaN            None          None       None                   None   \n",
       "3        NaN            None          None       None                   None   \n",
       "4        NaN            None          None       None                   None   \n",
       "\n",
       "  crosspost_parent  author_cakeday  \n",
       "0             None             NaN  \n",
       "1             None             NaN  \n",
       "2             None             NaN  \n",
       "3             None             NaN  \n",
       "4             None             NaN  \n",
       "\n",
       "[5 rows x 119 columns]"
      ]
     },
     "execution_count": 21,
     "metadata": {},
     "output_type": "execute_result"
    }
   ],
   "source": [
    "df = pd.read_json('../data/posts_with_comments.json', orient='records')\n",
    "df.head()"
   ]
  },
  {
   "cell_type": "markdown",
   "metadata": {},
   "source": [
    "## 1. 🧹Simple Data Cleanup"
   ]
  },
  {
   "cell_type": "markdown",
   "metadata": {},
   "source": [
    "Some posts are not formatted properly or have been deleted. We will remove them from our dataframe by checking for newlines, which are present in all properly formatted recipes."
   ]
  },
  {
   "cell_type": "code",
   "execution_count": 22,
   "metadata": {},
   "outputs": [
    {
     "data": {
      "text/plain": [
       "(1747, 119)"
      ]
     },
     "execution_count": 22,
     "metadata": {},
     "output_type": "execute_result"
    }
   ],
   "source": [
    "df = df[df['ingredient_comment'].str.contains(\"\\n\") == True]\n",
    "\n",
    "df.shape"
   ]
  },
  {
   "cell_type": "markdown",
   "metadata": {},
   "source": [
    "We clean up the posts.csv by removing irrelevant columns and renaming the columns that we want."
   ]
  },
  {
   "cell_type": "code",
   "execution_count": 23,
   "metadata": {},
   "outputs": [
    {
     "data": {
      "text/html": [
       "<div>\n",
       "<style scoped>\n",
       "    .dataframe tbody tr th:only-of-type {\n",
       "        vertical-align: middle;\n",
       "    }\n",
       "\n",
       "    .dataframe tbody tr th {\n",
       "        vertical-align: top;\n",
       "    }\n",
       "\n",
       "    .dataframe thead th {\n",
       "        text-align: right;\n",
       "    }\n",
       "</style>\n",
       "<table border=\"1\" class=\"dataframe\">\n",
       "  <thead>\n",
       "    <tr style=\"text-align: right;\">\n",
       "      <th></th>\n",
       "      <th>id</th>\n",
       "      <th>title</th>\n",
       "      <th>score</th>\n",
       "      <th>num_comments</th>\n",
       "      <th>ingredient_comment</th>\n",
       "      <th>created_utc</th>\n",
       "      <th>upvote_ratio</th>\n",
       "      <th>link_flair_text</th>\n",
       "      <th>author</th>\n",
       "      <th>url</th>\n",
       "      <th>comment_link</th>\n",
       "      <th>permalink</th>\n",
       "    </tr>\n",
       "  </thead>\n",
       "  <tbody>\n",
       "    <tr>\n",
       "      <th>0</th>\n",
       "      <td>19d0wfc</td>\n",
       "      <td>Buffalo Chicken Tenders</td>\n",
       "      <td>202</td>\n",
       "      <td>12</td>\n",
       "      <td>**Recipe here originally:** [**Buffalo Chicken...</td>\n",
       "      <td>1705944195</td>\n",
       "      <td>0.96</td>\n",
       "      <td>Recipe</td>\n",
       "      <td>BushyEyes</td>\n",
       "      <td>https://i.redd.it/qtwisr8gz0ec1.jpeg</td>\n",
       "      <td>https://oauth.reddit.com/r/recipes/comments/19...</td>\n",
       "      <td>https://reddit.com/r/recipes/comments/19d0wfc/...</td>\n",
       "    </tr>\n",
       "    <tr>\n",
       "      <th>1</th>\n",
       "      <td>1998zka</td>\n",
       "      <td>Prawn Katsu Baos</td>\n",
       "      <td>272</td>\n",
       "      <td>11</td>\n",
       "      <td>This one is high impact and a showstopper for ...</td>\n",
       "      <td>1705528588</td>\n",
       "      <td>0.95</td>\n",
       "      <td>Recipe</td>\n",
       "      <td>TheLuckiestDragon</td>\n",
       "      <td>https://i.redd.it/q81uyef4o2dc1.jpeg</td>\n",
       "      <td>https://oauth.reddit.com/r/recipes/comments/19...</td>\n",
       "      <td>https://reddit.com/r/recipes/comments/1998zka/...</td>\n",
       "    </tr>\n",
       "    <tr>\n",
       "      <th>2</th>\n",
       "      <td>18zcqmd</td>\n",
       "      <td>Cinnamon Rolls</td>\n",
       "      <td>256</td>\n",
       "      <td>21</td>\n",
       "      <td># Homemade Cinnamon Rolls\\n\\nFor full recipe, ...</td>\n",
       "      <td>1704476711</td>\n",
       "      <td>0.96</td>\n",
       "      <td>Recipe</td>\n",
       "      <td>pangibear</td>\n",
       "      <td>https://i.redd.it/7uef78dbsnac1.jpeg</td>\n",
       "      <td>https://oauth.reddit.com/r/recipes/comments/18...</td>\n",
       "      <td>https://reddit.com/r/recipes/comments/18zcqmd/...</td>\n",
       "    </tr>\n",
       "    <tr>\n",
       "      <th>3</th>\n",
       "      <td>18xxyl1</td>\n",
       "      <td>Bacon Jalapeño Sweet Potato Hash</td>\n",
       "      <td>122</td>\n",
       "      <td>9</td>\n",
       "      <td>**Bacon Jalapeño Sweet Potato Hash**\\n\\n**Ingr...</td>\n",
       "      <td>1704325340</td>\n",
       "      <td>0.98</td>\n",
       "      <td>Recipe</td>\n",
       "      <td>zorionek0</td>\n",
       "      <td>https://i.redd.it/jcbdya99abac1.jpeg</td>\n",
       "      <td>https://oauth.reddit.com/r/recipes/comments/18...</td>\n",
       "      <td>https://reddit.com/r/recipes/comments/18xxyl1/...</td>\n",
       "    </tr>\n",
       "    <tr>\n",
       "      <th>4</th>\n",
       "      <td>18vf164</td>\n",
       "      <td>Mushroom-Taleggio Risotto</td>\n",
       "      <td>184</td>\n",
       "      <td>6</td>\n",
       "      <td>**Recipe here originally:** [**Mushroom-Talegg...</td>\n",
       "      <td>1704050722</td>\n",
       "      <td>0.98</td>\n",
       "      <td>Recipe</td>\n",
       "      <td>BushyEyes</td>\n",
       "      <td>https://i.redd.it/qc5akriilo9c1.jpeg</td>\n",
       "      <td>https://oauth.reddit.com/r/recipes/comments/18...</td>\n",
       "      <td>https://reddit.com/r/recipes/comments/18vf164/...</td>\n",
       "    </tr>\n",
       "  </tbody>\n",
       "</table>\n",
       "</div>"
      ],
      "text/plain": [
       "        id                             title  score  num_comments  \\\n",
       "0  19d0wfc           Buffalo Chicken Tenders    202            12   \n",
       "1  1998zka                  Prawn Katsu Baos    272            11   \n",
       "2  18zcqmd                    Cinnamon Rolls    256            21   \n",
       "3  18xxyl1  Bacon Jalapeño Sweet Potato Hash    122             9   \n",
       "4  18vf164         Mushroom-Taleggio Risotto    184             6   \n",
       "\n",
       "                                  ingredient_comment  created_utc  \\\n",
       "0  **Recipe here originally:** [**Buffalo Chicken...   1705944195   \n",
       "1  This one is high impact and a showstopper for ...   1705528588   \n",
       "2  # Homemade Cinnamon Rolls\\n\\nFor full recipe, ...   1704476711   \n",
       "3  **Bacon Jalapeño Sweet Potato Hash**\\n\\n**Ingr...   1704325340   \n",
       "4  **Recipe here originally:** [**Mushroom-Talegg...   1704050722   \n",
       "\n",
       "   upvote_ratio link_flair_text             author  \\\n",
       "0          0.96          Recipe          BushyEyes   \n",
       "1          0.95          Recipe  TheLuckiestDragon   \n",
       "2          0.96          Recipe          pangibear   \n",
       "3          0.98          Recipe          zorionek0   \n",
       "4          0.98          Recipe          BushyEyes   \n",
       "\n",
       "                                    url  \\\n",
       "0  https://i.redd.it/qtwisr8gz0ec1.jpeg   \n",
       "1  https://i.redd.it/q81uyef4o2dc1.jpeg   \n",
       "2  https://i.redd.it/7uef78dbsnac1.jpeg   \n",
       "3  https://i.redd.it/jcbdya99abac1.jpeg   \n",
       "4  https://i.redd.it/qc5akriilo9c1.jpeg   \n",
       "\n",
       "                                        comment_link  \\\n",
       "0  https://oauth.reddit.com/r/recipes/comments/19...   \n",
       "1  https://oauth.reddit.com/r/recipes/comments/19...   \n",
       "2  https://oauth.reddit.com/r/recipes/comments/18...   \n",
       "3  https://oauth.reddit.com/r/recipes/comments/18...   \n",
       "4  https://oauth.reddit.com/r/recipes/comments/18...   \n",
       "\n",
       "                                           permalink  \n",
       "0  https://reddit.com/r/recipes/comments/19d0wfc/...  \n",
       "1  https://reddit.com/r/recipes/comments/1998zka/...  \n",
       "2  https://reddit.com/r/recipes/comments/18zcqmd/...  \n",
       "3  https://reddit.com/r/recipes/comments/18xxyl1/...  \n",
       "4  https://reddit.com/r/recipes/comments/18vf164/...  "
      ]
     },
     "execution_count": 23,
     "metadata": {},
     "output_type": "execute_result"
    }
   ],
   "source": [
    "desired_columns = ['id',\n",
    "                   'title',\n",
    "                   'score',\n",
    "                   'num_comments',\n",
    "                   'ingredient_comment',\n",
    "                   'created_utc', \n",
    "                   'upvote_ratio',\n",
    "                   'link_flair_text',\n",
    "                   'author',\n",
    "                   'url',\n",
    "                   'comment_link',\n",
    "                   'permalink']\n",
    "\n",
    "df_filtered = df.loc[:, desired_columns]\n",
    "df_filtered.head()"
   ]
  },
  {
   "cell_type": "markdown",
   "metadata": {},
   "source": [
    "We first filter out posts with empty rows."
   ]
  },
  {
   "cell_type": "code",
   "execution_count": 24,
   "metadata": {},
   "outputs": [
    {
     "data": {
      "text/plain": [
       "(1747, 12)"
      ]
     },
     "execution_count": 24,
     "metadata": {},
     "output_type": "execute_result"
    }
   ],
   "source": [
    "important_cols = ['id', 'title', 'ingredient_comment', 'permalink']\n",
    "df_filtered.dropna(axis=0, subset=important_cols, inplace=True)\n",
    "df_filtered.shape"
   ]
  },
  {
   "cell_type": "markdown",
   "metadata": {},
   "source": [
    "### 1.1 Filter out posts with non-english titles"
   ]
  },
  {
   "cell_type": "code",
   "execution_count": 25,
   "metadata": {},
   "outputs": [
    {
     "data": {
      "text/plain": [
       "(1635, 12)"
      ]
     },
     "execution_count": 25,
     "metadata": {},
     "output_type": "execute_result"
    }
   ],
   "source": [
    "# filter the english posts by applying custom function\n",
    "df_filtered = df_filtered[df_filtered['title'].apply(chadtools.is_english, threshold_rank=5)]\n",
    "\n",
    "df_filtered.shape"
   ]
  },
  {
   "cell_type": "markdown",
   "metadata": {},
   "source": [
    "### 1.2 Convert data to more appropriate types "
   ]
  },
  {
   "cell_type": "code",
   "execution_count": 26,
   "metadata": {},
   "outputs": [
    {
     "name": "stdout",
     "output_type": "stream",
     "text": [
      "<class 'pandas.core.frame.DataFrame'>\n",
      "Index: 1635 entries, 0 to 2065\n",
      "Data columns (total 12 columns):\n",
      " #   Column              Non-Null Count  Dtype  \n",
      "---  ------              --------------  -----  \n",
      " 0   id                  1635 non-null   object \n",
      " 1   title               1635 non-null   object \n",
      " 2   score               1635 non-null   int64  \n",
      " 3   num_comments        1635 non-null   int64  \n",
      " 4   ingredient_comment  1635 non-null   object \n",
      " 5   created_utc         1635 non-null   int64  \n",
      " 6   upvote_ratio        1635 non-null   float64\n",
      " 7   link_flair_text     1635 non-null   object \n",
      " 8   author              1635 non-null   object \n",
      " 9   url                 1635 non-null   object \n",
      " 10  comment_link        1635 non-null   object \n",
      " 11  permalink           1635 non-null   object \n",
      "dtypes: float64(1), int64(3), object(8)\n",
      "memory usage: 166.1+ KB\n"
     ]
    }
   ],
   "source": [
    "df_filtered.info()"
   ]
  },
  {
   "cell_type": "markdown",
   "metadata": {},
   "source": [
    "We will convert the following columns to the following types:\n",
    "- `title` to string\n",
    "- `score` to int32\n",
    "- `num_comments` to int16\n",
    "- `created_utc` to datetime\n",
    "- `upvote_ratio` to float16"
   ]
  },
  {
   "cell_type": "markdown",
   "metadata": {},
   "source": [
    "#### 1.2.1 Convert created_utc to a datetime object"
   ]
  },
  {
   "cell_type": "code",
   "execution_count": 27,
   "metadata": {},
   "outputs": [],
   "source": [
    "df_filtered['created_utc'] = df_filtered['created_utc'].apply(lambda x: datetime.fromtimestamp(x))"
   ]
  },
  {
   "cell_type": "markdown",
   "metadata": {},
   "source": [
    "Starting from 31 Aug 2020, r/recipes imposed strict rules on the format of new posts, which made the format substantially more consistent. Hence, we will only keep posts from 31 Aug 2020 onwards for ease of data collection."
   ]
  },
  {
   "cell_type": "code",
   "execution_count": 28,
   "metadata": {},
   "outputs": [
    {
     "data": {
      "text/html": [
       "<div>\n",
       "<style scoped>\n",
       "    .dataframe tbody tr th:only-of-type {\n",
       "        vertical-align: middle;\n",
       "    }\n",
       "\n",
       "    .dataframe tbody tr th {\n",
       "        vertical-align: top;\n",
       "    }\n",
       "\n",
       "    .dataframe thead th {\n",
       "        text-align: right;\n",
       "    }\n",
       "</style>\n",
       "<table border=\"1\" class=\"dataframe\">\n",
       "  <thead>\n",
       "    <tr style=\"text-align: right;\">\n",
       "      <th></th>\n",
       "      <th>id</th>\n",
       "      <th>title</th>\n",
       "      <th>score</th>\n",
       "      <th>num_comments</th>\n",
       "      <th>ingredient_comment</th>\n",
       "      <th>created_utc</th>\n",
       "      <th>upvote_ratio</th>\n",
       "      <th>link_flair_text</th>\n",
       "      <th>author</th>\n",
       "      <th>url</th>\n",
       "      <th>comment_link</th>\n",
       "      <th>permalink</th>\n",
       "    </tr>\n",
       "  </thead>\n",
       "  <tbody>\n",
       "    <tr>\n",
       "      <th>0</th>\n",
       "      <td>19d0wfc</td>\n",
       "      <td>Buffalo Chicken Tenders</td>\n",
       "      <td>202</td>\n",
       "      <td>12</td>\n",
       "      <td>**Recipe here originally:** [**Buffalo Chicken...</td>\n",
       "      <td>2024-01-22 17:23:15</td>\n",
       "      <td>0.96</td>\n",
       "      <td>Recipe</td>\n",
       "      <td>BushyEyes</td>\n",
       "      <td>https://i.redd.it/qtwisr8gz0ec1.jpeg</td>\n",
       "      <td>https://oauth.reddit.com/r/recipes/comments/19...</td>\n",
       "      <td>https://reddit.com/r/recipes/comments/19d0wfc/...</td>\n",
       "    </tr>\n",
       "    <tr>\n",
       "      <th>1</th>\n",
       "      <td>1998zka</td>\n",
       "      <td>Prawn Katsu Baos</td>\n",
       "      <td>272</td>\n",
       "      <td>11</td>\n",
       "      <td>This one is high impact and a showstopper for ...</td>\n",
       "      <td>2024-01-17 21:56:28</td>\n",
       "      <td>0.95</td>\n",
       "      <td>Recipe</td>\n",
       "      <td>TheLuckiestDragon</td>\n",
       "      <td>https://i.redd.it/q81uyef4o2dc1.jpeg</td>\n",
       "      <td>https://oauth.reddit.com/r/recipes/comments/19...</td>\n",
       "      <td>https://reddit.com/r/recipes/comments/1998zka/...</td>\n",
       "    </tr>\n",
       "    <tr>\n",
       "      <th>2</th>\n",
       "      <td>18zcqmd</td>\n",
       "      <td>Cinnamon Rolls</td>\n",
       "      <td>256</td>\n",
       "      <td>21</td>\n",
       "      <td># Homemade Cinnamon Rolls\\n\\nFor full recipe, ...</td>\n",
       "      <td>2024-01-05 17:45:11</td>\n",
       "      <td>0.96</td>\n",
       "      <td>Recipe</td>\n",
       "      <td>pangibear</td>\n",
       "      <td>https://i.redd.it/7uef78dbsnac1.jpeg</td>\n",
       "      <td>https://oauth.reddit.com/r/recipes/comments/18...</td>\n",
       "      <td>https://reddit.com/r/recipes/comments/18zcqmd/...</td>\n",
       "    </tr>\n",
       "    <tr>\n",
       "      <th>4</th>\n",
       "      <td>18vf164</td>\n",
       "      <td>Mushroom-Taleggio Risotto</td>\n",
       "      <td>184</td>\n",
       "      <td>6</td>\n",
       "      <td>**Recipe here originally:** [**Mushroom-Talegg...</td>\n",
       "      <td>2023-12-31 19:25:22</td>\n",
       "      <td>0.98</td>\n",
       "      <td>Recipe</td>\n",
       "      <td>BushyEyes</td>\n",
       "      <td>https://i.redd.it/qc5akriilo9c1.jpeg</td>\n",
       "      <td>https://oauth.reddit.com/r/recipes/comments/18...</td>\n",
       "      <td>https://reddit.com/r/recipes/comments/18vf164/...</td>\n",
       "    </tr>\n",
       "    <tr>\n",
       "      <th>5</th>\n",
       "      <td>18v7m3w</td>\n",
       "      <td>Cinnamon Oatmeal Chocolate Chip Cookies (Recipe)</td>\n",
       "      <td>211</td>\n",
       "      <td>16</td>\n",
       "      <td>[RECIPE LINK](https://www.sarahfreia.com/blog/...</td>\n",
       "      <td>2023-12-31 13:19:31</td>\n",
       "      <td>0.95</td>\n",
       "      <td>Recipe</td>\n",
       "      <td>sarahfreia</td>\n",
       "      <td>https://i.redd.it/aki9a36yrm9c1.jpeg</td>\n",
       "      <td>https://oauth.reddit.com/r/recipes/comments/18...</td>\n",
       "      <td>https://reddit.com/r/recipes/comments/18v7m3w/...</td>\n",
       "    </tr>\n",
       "  </tbody>\n",
       "</table>\n",
       "</div>"
      ],
      "text/plain": [
       "        id                                             title  score  \\\n",
       "0  19d0wfc                           Buffalo Chicken Tenders    202   \n",
       "1  1998zka                                  Prawn Katsu Baos    272   \n",
       "2  18zcqmd                                    Cinnamon Rolls    256   \n",
       "4  18vf164                         Mushroom-Taleggio Risotto    184   \n",
       "5  18v7m3w  Cinnamon Oatmeal Chocolate Chip Cookies (Recipe)    211   \n",
       "\n",
       "   num_comments                                 ingredient_comment  \\\n",
       "0            12  **Recipe here originally:** [**Buffalo Chicken...   \n",
       "1            11  This one is high impact and a showstopper for ...   \n",
       "2            21  # Homemade Cinnamon Rolls\\n\\nFor full recipe, ...   \n",
       "4             6  **Recipe here originally:** [**Mushroom-Talegg...   \n",
       "5            16  [RECIPE LINK](https://www.sarahfreia.com/blog/...   \n",
       "\n",
       "          created_utc  upvote_ratio link_flair_text             author  \\\n",
       "0 2024-01-22 17:23:15          0.96          Recipe          BushyEyes   \n",
       "1 2024-01-17 21:56:28          0.95          Recipe  TheLuckiestDragon   \n",
       "2 2024-01-05 17:45:11          0.96          Recipe          pangibear   \n",
       "4 2023-12-31 19:25:22          0.98          Recipe          BushyEyes   \n",
       "5 2023-12-31 13:19:31          0.95          Recipe         sarahfreia   \n",
       "\n",
       "                                    url  \\\n",
       "0  https://i.redd.it/qtwisr8gz0ec1.jpeg   \n",
       "1  https://i.redd.it/q81uyef4o2dc1.jpeg   \n",
       "2  https://i.redd.it/7uef78dbsnac1.jpeg   \n",
       "4  https://i.redd.it/qc5akriilo9c1.jpeg   \n",
       "5  https://i.redd.it/aki9a36yrm9c1.jpeg   \n",
       "\n",
       "                                        comment_link  \\\n",
       "0  https://oauth.reddit.com/r/recipes/comments/19...   \n",
       "1  https://oauth.reddit.com/r/recipes/comments/19...   \n",
       "2  https://oauth.reddit.com/r/recipes/comments/18...   \n",
       "4  https://oauth.reddit.com/r/recipes/comments/18...   \n",
       "5  https://oauth.reddit.com/r/recipes/comments/18...   \n",
       "\n",
       "                                           permalink  \n",
       "0  https://reddit.com/r/recipes/comments/19d0wfc/...  \n",
       "1  https://reddit.com/r/recipes/comments/1998zka/...  \n",
       "2  https://reddit.com/r/recipes/comments/18zcqmd/...  \n",
       "4  https://reddit.com/r/recipes/comments/18vf164/...  \n",
       "5  https://reddit.com/r/recipes/comments/18v7m3w/...  "
      ]
     },
     "execution_count": 28,
     "metadata": {},
     "output_type": "execute_result"
    }
   ],
   "source": [
    "cutoff_datetime = pd.to_datetime(\"2020-08-31 10:59:00\")\n",
    "\n",
    "# Filter out rows where 'created_utc' is before the cutoff datetime\n",
    "df_filtered = df_filtered[df_filtered['created_utc'] >= cutoff_datetime]\n",
    "\n",
    "df_filtered.head()"
   ]
  },
  {
   "cell_type": "markdown",
   "metadata": {},
   "source": [
    "#### 1.2.2 Convert the more primitive types to more size-efficient types."
   ]
  },
  {
   "cell_type": "code",
   "execution_count": 29,
   "metadata": {},
   "outputs": [],
   "source": [
    "df_filtered['score'] = df_filtered['score'].astype('int16')\n",
    "df_filtered['num_comments'] = df_filtered['num_comments'].astype('int16')   \n",
    "df_filtered['upvote_ratio'] = df_filtered['upvote_ratio'].astype('float16')"
   ]
  },
  {
   "cell_type": "code",
   "execution_count": 30,
   "metadata": {},
   "outputs": [
    {
     "name": "stdout",
     "output_type": "stream",
     "text": [
      "<class 'pandas.core.frame.DataFrame'>\n",
      "Index: 1000 entries, 0 to 1990\n",
      "Data columns (total 12 columns):\n",
      " #   Column              Non-Null Count  Dtype         \n",
      "---  ------              --------------  -----         \n",
      " 0   id                  1000 non-null   object        \n",
      " 1   title               1000 non-null   object        \n",
      " 2   score               1000 non-null   int16         \n",
      " 3   num_comments        1000 non-null   int16         \n",
      " 4   ingredient_comment  1000 non-null   object        \n",
      " 5   created_utc         1000 non-null   datetime64[ns]\n",
      " 6   upvote_ratio        1000 non-null   float16       \n",
      " 7   link_flair_text     1000 non-null   object        \n",
      " 8   author              1000 non-null   object        \n",
      " 9   url                 1000 non-null   object        \n",
      " 10  comment_link        1000 non-null   object        \n",
      " 11  permalink           1000 non-null   object        \n",
      "dtypes: datetime64[ns](1), float16(1), int16(2), object(8)\n",
      "memory usage: 84.0+ KB\n"
     ]
    }
   ],
   "source": [
    "df_filtered.info()"
   ]
  },
  {
   "cell_type": "markdown",
   "metadata": {},
   "source": [
    "As seen, the size of the dataframe has been reduced by 50%."
   ]
  },
  {
   "cell_type": "markdown",
   "metadata": {},
   "source": [
    "### Save df_filtered as a JSON file"
   ]
  },
  {
   "cell_type": "code",
   "execution_count": 31,
   "metadata": {},
   "outputs": [],
   "source": [
    "df_filtered.to_json('../data/cleaned_posts.json', indent=4, orient='records')"
   ]
  },
  {
   "cell_type": "markdown",
   "metadata": {},
   "source": [
    "Saving as HTML to add to Index.md"
   ]
  },
  {
   "cell_type": "code",
   "execution_count": 54,
   "metadata": {},
   "outputs": [],
   "source": [
    "df_filtered.head().to_html('../docs/df_filtered.html')\n"
   ]
  },
  {
   "cell_type": "markdown",
   "metadata": {},
   "source": [
    "## Extract Ingredients"
   ]
  },
  {
   "cell_type": "markdown",
   "metadata": {},
   "source": [
    "We will use `regex` to extract the ingredients portion of the comment, and disregard the cooking instructions for simplicity. We will then use GPT-3.5 to identify the ingredients."
   ]
  },
  {
   "cell_type": "markdown",
   "metadata": {},
   "source": [
    "### Filter out ingredients portion of the comments"
   ]
  },
  {
   "cell_type": "code",
   "execution_count": 33,
   "metadata": {},
   "outputs": [
    {
     "name": "stderr",
     "output_type": "stream",
     "text": [
      "100%|██████████| 1000/1000 [00:00<00:00, 8845.46it/s]\n"
     ]
    }
   ],
   "source": [
    "df_filtered['ingredient_comment_truncated'] = df_filtered['ingredient_comment'].progress_apply(chadtools.extract_ingredients_text)"
   ]
  },
  {
   "cell_type": "markdown",
   "metadata": {},
   "source": [
    "### Set up GPT Client"
   ]
  },
  {
   "cell_type": "code",
   "execution_count": 34,
   "metadata": {},
   "outputs": [
    {
     "ename": "KeyError",
     "evalue": "'openai_api_key'",
     "output_type": "error",
     "traceback": [
      "\u001b[1;31m---------------------------------------------------------------------------\u001b[0m",
      "\u001b[1;31mKeyError\u001b[0m                                  Traceback (most recent call last)",
      "Cell \u001b[1;32mIn[34], line 1\u001b[0m\n\u001b[1;32m----> 1\u001b[0m my_client \u001b[38;5;241m=\u001b[39m \u001b[43mchadtools\u001b[49m\u001b[38;5;241;43m.\u001b[39;49m\u001b[43msetup_gpt_client\u001b[49m\u001b[43m(\u001b[49m\u001b[43m)\u001b[49m\n",
      "File \u001b[1;32mc:\\Users\\clare\\OneDrive\\Desktop\\DS105A\\Recipe Project\\ds105a-project-chadgpt\\notebooks\\../scripts\\chadtools.py:84\u001b[0m, in \u001b[0;36msetup_gpt_client\u001b[1;34m(credentials_path)\u001b[0m\n\u001b[0;32m     81\u001b[0m \u001b[38;5;28;01mwith\u001b[39;00m \u001b[38;5;28mopen\u001b[39m(credentials_path, \u001b[38;5;124m\"\u001b[39m\u001b[38;5;124mr\u001b[39m\u001b[38;5;124m\"\u001b[39m) \u001b[38;5;28;01mas\u001b[39;00m f:\n\u001b[0;32m     82\u001b[0m     credentials \u001b[38;5;241m=\u001b[39m json\u001b[38;5;241m.\u001b[39mload(f)\n\u001b[1;32m---> 84\u001b[0m client \u001b[38;5;241m=\u001b[39m OpenAI(api_key\u001b[38;5;241m=\u001b[39m\u001b[43mcredentials\u001b[49m\u001b[43m[\u001b[49m\u001b[38;5;124;43m\"\u001b[39;49m\u001b[38;5;124;43mopenai_api_key\u001b[39;49m\u001b[38;5;124;43m\"\u001b[39;49m\u001b[43m]\u001b[49m)\n\u001b[0;32m     85\u001b[0m \u001b[38;5;28;01mreturn\u001b[39;00m client\n",
      "\u001b[1;31mKeyError\u001b[0m: 'openai_api_key'"
     ]
    }
   ],
   "source": [
    "my_client = chadtools.setup_gpt_client()"
   ]
  },
  {
   "cell_type": "code",
   "execution_count": null,
   "metadata": {},
   "outputs": [
    {
     "data": {
      "text/plain": [
       "0    **Recipe here originally:** [**Buffalo Chicken...\n",
       "1    This one is high impact and a showstopper for ...\n",
       "2    # Homemade Cinnamon Rolls\\n\\nFor full recipe, ...\n",
       "4    **Recipe here originally:** [**Mushroom-Talegg...\n",
       "5    [RECIPE LINK](https://www.sarahfreia.com/blog/...\n",
       "Name: ingredient_comment_truncated, dtype: object"
      ]
     },
     "execution_count": 33,
     "metadata": {},
     "output_type": "execute_result"
    }
   ],
   "source": [
    "df_filtered['ingredient_comment_truncated'].head()"
   ]
  },
  {
   "cell_type": "markdown",
   "metadata": {},
   "source": [
    "### Use GPT to identify ingredients"
   ]
  },
  {
   "cell_type": "markdown",
   "metadata": {},
   "source": [
    "WARNING: This step calls the OpenAI GPT API, which incurs costs. Ensure sufficient tokens are available before running this step."
   ]
  },
  {
   "cell_type": "code",
   "execution_count": null,
   "metadata": {},
   "outputs": [],
   "source": [
    "df_filtered['gpt_ingredients'] = df_filtered['ingredient_comment_truncated'].progress_apply(chadtools.get_ingredient_list, client=my_client)\n",
    "df_filtered['gpt_ingredients'].head()"
   ]
  },
  {
   "cell_type": "code",
   "execution_count": null,
   "metadata": {},
   "outputs": [
    {
     "data": {
      "text/html": [
       "<div>\n",
       "<style scoped>\n",
       "    .dataframe tbody tr th:only-of-type {\n",
       "        vertical-align: middle;\n",
       "    }\n",
       "\n",
       "    .dataframe tbody tr th {\n",
       "        vertical-align: top;\n",
       "    }\n",
       "\n",
       "    .dataframe thead th {\n",
       "        text-align: right;\n",
       "    }\n",
       "</style>\n",
       "<table border=\"1\" class=\"dataframe\">\n",
       "  <thead>\n",
       "    <tr style=\"text-align: right;\">\n",
       "      <th></th>\n",
       "      <th>id</th>\n",
       "      <th>title</th>\n",
       "      <th>score</th>\n",
       "      <th>num_comments</th>\n",
       "      <th>ingredient_comment</th>\n",
       "      <th>created_utc</th>\n",
       "      <th>upvote_ratio</th>\n",
       "      <th>link_flair_text</th>\n",
       "      <th>author</th>\n",
       "      <th>url</th>\n",
       "      <th>comment_link</th>\n",
       "      <th>permalink</th>\n",
       "      <th>ingredient_comment_truncated</th>\n",
       "      <th>gpt_ingredients</th>\n",
       "    </tr>\n",
       "  </thead>\n",
       "  <tbody>\n",
       "    <tr>\n",
       "      <th>0</th>\n",
       "      <td>19d0wfc</td>\n",
       "      <td>Buffalo Chicken Tenders</td>\n",
       "      <td>202</td>\n",
       "      <td>12</td>\n",
       "      <td>**Recipe here originally:** [**Buffalo Chicken...</td>\n",
       "      <td>2024-01-22 17:23:15</td>\n",
       "      <td>0.959961</td>\n",
       "      <td>Recipe</td>\n",
       "      <td>BushyEyes</td>\n",
       "      <td>https://i.redd.it/qtwisr8gz0ec1.jpeg</td>\n",
       "      <td>https://oauth.reddit.com/r/recipes/comments/19...</td>\n",
       "      <td>https://reddit.com/r/recipes/comments/19d0wfc/...</td>\n",
       "      <td>**Recipe here originally:** [**Buffalo Chicken...</td>\n",
       "      <td>[chicken tenderloins, flour, garlic powder, eg...</td>\n",
       "    </tr>\n",
       "    <tr>\n",
       "      <th>1</th>\n",
       "      <td>1998zka</td>\n",
       "      <td>Prawn Katsu Baos</td>\n",
       "      <td>272</td>\n",
       "      <td>11</td>\n",
       "      <td>This one is high impact and a showstopper for ...</td>\n",
       "      <td>2024-01-17 21:56:28</td>\n",
       "      <td>0.950195</td>\n",
       "      <td>Recipe</td>\n",
       "      <td>TheLuckiestDragon</td>\n",
       "      <td>https://i.redd.it/q81uyef4o2dc1.jpeg</td>\n",
       "      <td>https://oauth.reddit.com/r/recipes/comments/19...</td>\n",
       "      <td>https://reddit.com/r/recipes/comments/1998zka/...</td>\n",
       "      <td>This one is high impact and a showstopper for ...</td>\n",
       "      <td>[kewpie, plain yoghurt, dill pickles, capers, ...</td>\n",
       "    </tr>\n",
       "    <tr>\n",
       "      <th>2</th>\n",
       "      <td>18zcqmd</td>\n",
       "      <td>Cinnamon Rolls</td>\n",
       "      <td>256</td>\n",
       "      <td>21</td>\n",
       "      <td># Homemade Cinnamon Rolls\\n\\nFor full recipe, ...</td>\n",
       "      <td>2024-01-05 17:45:11</td>\n",
       "      <td>0.959961</td>\n",
       "      <td>Recipe</td>\n",
       "      <td>pangibear</td>\n",
       "      <td>https://i.redd.it/7uef78dbsnac1.jpeg</td>\n",
       "      <td>https://oauth.reddit.com/r/recipes/comments/18...</td>\n",
       "      <td>https://reddit.com/r/recipes/comments/18zcqmd/...</td>\n",
       "      <td># Homemade Cinnamon Rolls\\n\\nFor full recipe, ...</td>\n",
       "      <td>[cinnamon roll dough, warm milk, instant yeast...</td>\n",
       "    </tr>\n",
       "    <tr>\n",
       "      <th>4</th>\n",
       "      <td>18vf164</td>\n",
       "      <td>Mushroom-Taleggio Risotto</td>\n",
       "      <td>184</td>\n",
       "      <td>6</td>\n",
       "      <td>**Recipe here originally:** [**Mushroom-Talegg...</td>\n",
       "      <td>2023-12-31 19:25:22</td>\n",
       "      <td>0.979980</td>\n",
       "      <td>Recipe</td>\n",
       "      <td>BushyEyes</td>\n",
       "      <td>https://i.redd.it/qc5akriilo9c1.jpeg</td>\n",
       "      <td>https://oauth.reddit.com/r/recipes/comments/18...</td>\n",
       "      <td>https://reddit.com/r/recipes/comments/18vf164/...</td>\n",
       "      <td>**Recipe here originally:** [**Mushroom-Talegg...</td>\n",
       "      <td>[dry porcini mushrooms, boiling water, cremini...</td>\n",
       "    </tr>\n",
       "    <tr>\n",
       "      <th>5</th>\n",
       "      <td>18v7m3w</td>\n",
       "      <td>Cinnamon Oatmeal Chocolate Chip Cookies (Recipe)</td>\n",
       "      <td>211</td>\n",
       "      <td>16</td>\n",
       "      <td>[RECIPE LINK](https://www.sarahfreia.com/blog/...</td>\n",
       "      <td>2023-12-31 13:19:31</td>\n",
       "      <td>0.950195</td>\n",
       "      <td>Recipe</td>\n",
       "      <td>sarahfreia</td>\n",
       "      <td>https://i.redd.it/aki9a36yrm9c1.jpeg</td>\n",
       "      <td>https://oauth.reddit.com/r/recipes/comments/18...</td>\n",
       "      <td>https://reddit.com/r/recipes/comments/18v7m3w/...</td>\n",
       "      <td>[RECIPE LINK](https://www.sarahfreia.com/blog/...</td>\n",
       "      <td>[unsalted butter, brown sugar, granulated suga...</td>\n",
       "    </tr>\n",
       "  </tbody>\n",
       "</table>\n",
       "</div>"
      ],
      "text/plain": [
       "        id                                             title  score  \\\n",
       "0  19d0wfc                           Buffalo Chicken Tenders    202   \n",
       "1  1998zka                                  Prawn Katsu Baos    272   \n",
       "2  18zcqmd                                    Cinnamon Rolls    256   \n",
       "4  18vf164                         Mushroom-Taleggio Risotto    184   \n",
       "5  18v7m3w  Cinnamon Oatmeal Chocolate Chip Cookies (Recipe)    211   \n",
       "\n",
       "   num_comments                                 ingredient_comment  \\\n",
       "0            12  **Recipe here originally:** [**Buffalo Chicken...   \n",
       "1            11  This one is high impact and a showstopper for ...   \n",
       "2            21  # Homemade Cinnamon Rolls\\n\\nFor full recipe, ...   \n",
       "4             6  **Recipe here originally:** [**Mushroom-Talegg...   \n",
       "5            16  [RECIPE LINK](https://www.sarahfreia.com/blog/...   \n",
       "\n",
       "          created_utc  upvote_ratio link_flair_text             author  \\\n",
       "0 2024-01-22 17:23:15      0.959961          Recipe          BushyEyes   \n",
       "1 2024-01-17 21:56:28      0.950195          Recipe  TheLuckiestDragon   \n",
       "2 2024-01-05 17:45:11      0.959961          Recipe          pangibear   \n",
       "4 2023-12-31 19:25:22      0.979980          Recipe          BushyEyes   \n",
       "5 2023-12-31 13:19:31      0.950195          Recipe         sarahfreia   \n",
       "\n",
       "                                    url  \\\n",
       "0  https://i.redd.it/qtwisr8gz0ec1.jpeg   \n",
       "1  https://i.redd.it/q81uyef4o2dc1.jpeg   \n",
       "2  https://i.redd.it/7uef78dbsnac1.jpeg   \n",
       "4  https://i.redd.it/qc5akriilo9c1.jpeg   \n",
       "5  https://i.redd.it/aki9a36yrm9c1.jpeg   \n",
       "\n",
       "                                        comment_link  \\\n",
       "0  https://oauth.reddit.com/r/recipes/comments/19...   \n",
       "1  https://oauth.reddit.com/r/recipes/comments/19...   \n",
       "2  https://oauth.reddit.com/r/recipes/comments/18...   \n",
       "4  https://oauth.reddit.com/r/recipes/comments/18...   \n",
       "5  https://oauth.reddit.com/r/recipes/comments/18...   \n",
       "\n",
       "                                           permalink  \\\n",
       "0  https://reddit.com/r/recipes/comments/19d0wfc/...   \n",
       "1  https://reddit.com/r/recipes/comments/1998zka/...   \n",
       "2  https://reddit.com/r/recipes/comments/18zcqmd/...   \n",
       "4  https://reddit.com/r/recipes/comments/18vf164/...   \n",
       "5  https://reddit.com/r/recipes/comments/18v7m3w/...   \n",
       "\n",
       "                        ingredient_comment_truncated  \\\n",
       "0  **Recipe here originally:** [**Buffalo Chicken...   \n",
       "1  This one is high impact and a showstopper for ...   \n",
       "2  # Homemade Cinnamon Rolls\\n\\nFor full recipe, ...   \n",
       "4  **Recipe here originally:** [**Mushroom-Talegg...   \n",
       "5  [RECIPE LINK](https://www.sarahfreia.com/blog/...   \n",
       "\n",
       "                                     gpt_ingredients  \n",
       "0  [chicken tenderloins, flour, garlic powder, eg...  \n",
       "1  [kewpie, plain yoghurt, dill pickles, capers, ...  \n",
       "2  [cinnamon roll dough, warm milk, instant yeast...  \n",
       "4  [dry porcini mushrooms, boiling water, cremini...  \n",
       "5  [unsalted butter, brown sugar, granulated suga...  "
      ]
     },
     "execution_count": 36,
     "metadata": {},
     "output_type": "execute_result"
    }
   ],
   "source": [
    "df_filtered.head()"
   ]
  },
  {
   "cell_type": "markdown",
   "metadata": {},
   "source": [
    "### Reorder, filter, save as JSON"
   ]
  },
  {
   "cell_type": "markdown",
   "metadata": {},
   "source": [
    "Finally, filter and reorder the columns, and save the dataframe as a JSON file for use in the next step."
   ]
  },
  {
   "cell_type": "code",
   "execution_count": null,
   "metadata": {},
   "outputs": [],
   "source": [
    "ordered_cols = [\"id\", \"title\", \"gpt_ingredients\", \"ingredient_comment_truncated\", \"score\", \"upvote_ratio\", \"link_flair_text\", \"author\", \"created_utc\", \"url\", \"permalink\"]\n",
    "df_filtered = df_filtered.loc[:, ordered_cols]\n",
    "df_filtered.to_json('../data/cleaned_posts_with_ingredient_list.json', orient='records', indent=4)"
   ]
  }
 ],
 "metadata": {
  "kernelspec": {
   "display_name": "base",
   "language": "python",
   "name": "python3"
  },
  "language_info": {
   "codemirror_mode": {
    "name": "ipython",
    "version": 3
   },
   "file_extension": ".py",
   "mimetype": "text/x-python",
   "name": "python",
   "nbconvert_exporter": "python",
   "pygments_lexer": "ipython3",
   "version": "3.11.7"
  },
  "orig_nbformat": 4
 },
 "nbformat": 4,
 "nbformat_minor": 2
}
