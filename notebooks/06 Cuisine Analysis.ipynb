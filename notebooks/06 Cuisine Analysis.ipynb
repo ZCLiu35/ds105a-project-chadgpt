{
 "cells": [
  {
   "cell_type": "markdown",
   "metadata": {},
   "source": [
    "# ✅Step 6: Analysis of Ingredients and Cuisines"
   ]
  },
  {
   "cell_type": "markdown",
   "metadata": {},
   "source": [
    "## 🎯0. Import libraries and load data"
   ]
  },
  {
   "cell_type": "code",
   "execution_count": 41,
   "metadata": {},
   "outputs": [],
   "source": [
    "import pandas as pd          \n",
    "import numpy as np \n",
    "from tqdm import tqdm\n",
    "import sys\n",
    "from plotnine import *\n",
    "import altair as alt\n",
    "\n",
    "# Import our own modules\n",
    "sys.path.append(\"../scripts/\")\n",
    "import chadtools"
   ]
  },
  {
   "cell_type": "code",
   "execution_count": 4,
   "metadata": {},
   "outputs": [
    {
     "data": {
      "text/html": [
       "<div>\n",
       "<style scoped>\n",
       "    .dataframe tbody tr th:only-of-type {\n",
       "        vertical-align: middle;\n",
       "    }\n",
       "\n",
       "    .dataframe tbody tr th {\n",
       "        vertical-align: top;\n",
       "    }\n",
       "\n",
       "    .dataframe thead th {\n",
       "        text-align: right;\n",
       "    }\n",
       "</style>\n",
       "<table border=\"1\" class=\"dataframe\">\n",
       "  <thead>\n",
       "    <tr style=\"text-align: right;\">\n",
       "      <th></th>\n",
       "      <th>id</th>\n",
       "      <th>title</th>\n",
       "      <th>gpt_ingredients</th>\n",
       "      <th>cuisine</th>\n",
       "      <th>ingredient_comment</th>\n",
       "      <th>score</th>\n",
       "      <th>upvote_ratio</th>\n",
       "      <th>link_flair_text</th>\n",
       "      <th>author</th>\n",
       "      <th>created_utc</th>\n",
       "      <th>...</th>\n",
       "      <th>bbcgf_title</th>\n",
       "      <th>calories</th>\n",
       "      <th>salt</th>\n",
       "      <th>fat</th>\n",
       "      <th>sugars</th>\n",
       "      <th>saturates</th>\n",
       "      <th>carbs</th>\n",
       "      <th>protein</th>\n",
       "      <th>fibre</th>\n",
       "      <th>bbcgf_ratings</th>\n",
       "    </tr>\n",
       "  </thead>\n",
       "  <tbody>\n",
       "    <tr>\n",
       "      <th>0</th>\n",
       "      <td>1ah8m5s</td>\n",
       "      <td>Thai Green Curry Chicken Satay</td>\n",
       "      <td>[chicken satay, homemade green curry paste, ve...</td>\n",
       "      <td>thai</td>\n",
       "      <td>You could use any curry paste you like. Do you...</td>\n",
       "      <td>49</td>\n",
       "      <td>0.879883</td>\n",
       "      <td>Recipe</td>\n",
       "      <td>butchec</td>\n",
       "      <td>1706893611000</td>\n",
       "      <td>...</td>\n",
       "      <td>Thai green chicken curry</td>\n",
       "      <td>257</td>\n",
       "      <td>0.60</td>\n",
       "      <td>15.0</td>\n",
       "      <td>3.0</td>\n",
       "      <td>10.0</td>\n",
       "      <td>9.0</td>\n",
       "      <td>19.0</td>\n",
       "      <td>2.0</td>\n",
       "      <td>0.90</td>\n",
       "    </tr>\n",
       "    <tr>\n",
       "      <th>1</th>\n",
       "      <td>1afoma3</td>\n",
       "      <td>Sweet and Sour Tofu</td>\n",
       "      <td>[tofu, ground black pepper, salt, cornstarch, ...</td>\n",
       "      <td>chinese</td>\n",
       "      <td>I love figuring out ways to make tofu deliciou...</td>\n",
       "      <td>59</td>\n",
       "      <td>0.890137</td>\n",
       "      <td>Recipe</td>\n",
       "      <td>parisrosaries</td>\n",
       "      <td>1706725321000</td>\n",
       "      <td>...</td>\n",
       "      <td>Sweet &amp; sour tofu</td>\n",
       "      <td>530</td>\n",
       "      <td>1.20</td>\n",
       "      <td>17.0</td>\n",
       "      <td>18.0</td>\n",
       "      <td>2.0</td>\n",
       "      <td>75.0</td>\n",
       "      <td>15.0</td>\n",
       "      <td>8.0</td>\n",
       "      <td>0.82</td>\n",
       "    </tr>\n",
       "    <tr>\n",
       "      <th>2</th>\n",
       "      <td>1acagoz</td>\n",
       "      <td>Chocolate Fudgy Brownie</td>\n",
       "      <td>[butter, dark chocolate, cocoa powder, white s...</td>\n",
       "      <td>american</td>\n",
       "      <td>Full Chocolate Fudgy Brownie recipe: https://w...</td>\n",
       "      <td>114</td>\n",
       "      <td>0.910156</td>\n",
       "      <td>Recipe</td>\n",
       "      <td>butchec</td>\n",
       "      <td>1706360858000</td>\n",
       "      <td>...</td>\n",
       "      <td>Fudgy brownies</td>\n",
       "      <td>1043</td>\n",
       "      <td>0.62</td>\n",
       "      <td>62.0</td>\n",
       "      <td>76.0</td>\n",
       "      <td>35.0</td>\n",
       "      <td>105.0</td>\n",
       "      <td>14.0</td>\n",
       "      <td>6.0</td>\n",
       "      <td>0.86</td>\n",
       "    </tr>\n",
       "  </tbody>\n",
       "</table>\n",
       "<p>3 rows × 22 columns</p>\n",
       "</div>"
      ],
      "text/plain": [
       "        id                           title  \\\n",
       "0  1ah8m5s  Thai Green Curry Chicken Satay   \n",
       "1  1afoma3             Sweet and Sour Tofu   \n",
       "2  1acagoz         Chocolate Fudgy Brownie   \n",
       "\n",
       "                                     gpt_ingredients   cuisine  \\\n",
       "0  [chicken satay, homemade green curry paste, ve...      thai   \n",
       "1  [tofu, ground black pepper, salt, cornstarch, ...   chinese   \n",
       "2  [butter, dark chocolate, cocoa powder, white s...  american   \n",
       "\n",
       "                                  ingredient_comment  score  upvote_ratio  \\\n",
       "0  You could use any curry paste you like. Do you...     49      0.879883   \n",
       "1  I love figuring out ways to make tofu deliciou...     59      0.890137   \n",
       "2  Full Chocolate Fudgy Brownie recipe: https://w...    114      0.910156   \n",
       "\n",
       "  link_flair_text         author    created_utc  ...  \\\n",
       "0          Recipe        butchec  1706893611000  ...   \n",
       "1          Recipe  parisrosaries  1706725321000  ...   \n",
       "2          Recipe        butchec  1706360858000  ...   \n",
       "\n",
       "                bbcgf_title calories  salt   fat  sugars  saturates  carbs  \\\n",
       "0  Thai green chicken curry      257  0.60  15.0     3.0       10.0    9.0   \n",
       "1         Sweet & sour tofu      530  1.20  17.0    18.0        2.0   75.0   \n",
       "2            Fudgy brownies     1043  0.62  62.0    76.0       35.0  105.0   \n",
       "\n",
       "   protein  fibre  bbcgf_ratings  \n",
       "0     19.0    2.0           0.90  \n",
       "1     15.0    8.0           0.82  \n",
       "2     14.0    6.0           0.86  \n",
       "\n",
       "[3 rows x 22 columns]"
      ]
     },
     "execution_count": 4,
     "metadata": {},
     "output_type": "execute_result"
    }
   ],
   "source": [
    "df = pd.read_json(\"../data/merged_data_for_analysis.json\", orient=\"records\")\n",
    "df.head(3)"
   ]
  },
  {
   "cell_type": "markdown",
   "metadata": {},
   "source": [
    "## 🎯1. Analysis of Ingredients"
   ]
  },
  {
   "cell_type": "markdown",
   "metadata": {},
   "source": [
    "We first do some ingredient analysis for all the recipes. In particular, we are interested in finding how much of the *top 10 most common ingredients* are used in each cuisine."
   ]
  },
  {
   "cell_type": "code",
   "execution_count": 37,
   "metadata": {},
   "outputs": [],
   "source": [
    "df[\"cuisine\"].value_counts().head(10)\n",
    "frequency_table = df[\"gpt_ingredients\"].value_counts()\n",
    "\n",
    "all_ingredient_list = []\n",
    "for i in df[\"gpt_ingredients\"].tolist():\n",
    "    all_ingredient_list.extend(i)\n",
    "\n",
    "all_ingredient_series = pd.Series(all_ingredient_list)\n",
    "top_10_ingredients = all_ingredient_series.value_counts().head(10)"
   ]
  },
  {
   "cell_type": "code",
   "execution_count": 53,
   "metadata": {},
   "outputs": [],
   "source": [
    "ingredient_frequency_df = pd.DataFrame(top_10_ingredients).reset_index()\n",
    "ingredient_frequency_df.columns = [\"ingredient\", \"frequency\"]\n",
    "ingredient_frequency_df = ingredient_frequency_df.sort_values(\"frequency\", ascending=False)"
   ]
  },
  {
   "cell_type": "code",
   "execution_count": 55,
   "metadata": {},
   "outputs": [
    {
     "name": "stderr",
     "output_type": "stream",
     "text": [
      "c:\\Users\\Zicheng Liu\\.conda\\envs\\ds105\\lib\\site-packages\\plotnine\\ggplot.py:587: PlotnineWarning: Saving 6.4 x 4.8 in image.\n",
      "c:\\Users\\Zicheng Liu\\.conda\\envs\\ds105\\lib\\site-packages\\plotnine\\ggplot.py:588: PlotnineWarning: Filename: ../plots/top_10_ingredients_frequency.jpg\n",
      "c:\\Users\\Zicheng Liu\\.conda\\envs\\ds105\\lib\\site-packages\\mizani\\scale.py:210: FutureWarning: is_categorical_dtype is deprecated and will be removed in a future version. Use isinstance(dtype, CategoricalDtype) instead\n",
      "c:\\Users\\Zicheng Liu\\.conda\\envs\\ds105\\lib\\site-packages\\mizani\\scale.py:223: FutureWarning: is_categorical_dtype is deprecated and will be removed in a future version. Use isinstance(dtype, CategoricalDtype) instead\n"
     ]
    }
   ],
   "source": [
    "plot = (ggplot(ingredient_frequency_df, aes(x=\"ingredient\", y=\"frequency\")) +\n",
    "       geom_bar(stat=\"identity\", fill='#5c3da4') +\n",
    "       coord_flip() +\n",
    "       scale_x_discrete(limits=ingredient_frequency_df[\"ingredient\"][::-1]) +\n",
    "       theme(plot_title = element_text(weight='bold', color=\"black\", size=10, ha=\"right\")) +\n",
    "       theme(aspect_ratio=9/16) +\n",
    "       labs(title=\"Top 10 ingredients by frequency in both BBC GoodFood and Reddit recipes\", \n",
    "            x=\"Ingredient\", y=\"Number of recipes\")\n",
    ")\n",
    "plot.save(\"../plots/top_10_ingredients_frequency.jpg\", format=\"jpg\", dpi=600)"
   ]
  },
  {
   "cell_type": "markdown",
   "metadata": {},
   "source": [
    "Hence, the top 10 ingredients found in recipes appearing on both BBC GoodFood and Reddit are:\n",
    "1. Salt\n",
    "2. Pepper\n",
    "3. Garlic\n",
    "4. Butter\n",
    "5. Sugar\n",
    "6. Olive oil\n",
    "7. Water\n",
    "8. Black Pepper\n",
    "9. Eggs\n",
    "10. Yellow Onion"
   ]
  },
  {
   "cell_type": "markdown",
   "metadata": {},
   "source": [
    "## 🎯2. Analysis of Cuisines"
   ]
  },
  {
   "cell_type": "markdown",
   "metadata": {},
   "source": [
    "We are also interested in the breakdown of cuisines in the recipes."
   ]
  },
  {
   "cell_type": "code",
   "execution_count": 57,
   "metadata": {},
   "outputs": [
    {
     "data": {
      "text/plain": [
       "cuisine\n",
       "italian     111\n",
       "american     70\n",
       "chinese      35\n",
       "thai         32\n",
       "french       25\n",
       "japanese     21\n",
       "indian       18\n",
       "british      17\n",
       "mexican      16\n",
       "greek        12\n",
       "Name: count, dtype: int64"
      ]
     },
     "execution_count": 57,
     "metadata": {},
     "output_type": "execute_result"
    }
   ],
   "source": [
    "df[\"cuisine\"].value_counts().head(10)"
   ]
  }
 ],
 "metadata": {
  "kernelspec": {
   "display_name": "ds105",
   "language": "python",
   "name": "python3"
  },
  "language_info": {
   "codemirror_mode": {
    "name": "ipython",
    "version": 3
   },
   "file_extension": ".py",
   "mimetype": "text/x-python",
   "name": "python",
   "nbconvert_exporter": "python",
   "pygments_lexer": "ipython3",
   "version": "3.9.18"
  }
 },
 "nbformat": 4,
 "nbformat_minor": 2
}
